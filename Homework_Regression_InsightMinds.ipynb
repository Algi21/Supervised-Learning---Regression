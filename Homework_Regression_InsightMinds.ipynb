{
  "nbformat": 4,
  "nbformat_minor": 0,
  "metadata": {
    "colab": {
      "provenance": [],
      "include_colab_link": true
    },
    "kernelspec": {
      "name": "python3",
      "display_name": "Python 3"
    },
    "language_info": {
      "name": "python"
    }
  },
  "cells": [
    {
      "cell_type": "markdown",
      "metadata": {
        "id": "view-in-github",
        "colab_type": "text"
      },
      "source": [
        "<a href=\"https://colab.research.google.com/github/Algi21/Supervised-Learning---Regression/blob/main/Homework_Regression_InsightMinds.ipynb\" target=\"_parent\"><img src=\"https://colab.research.google.com/assets/colab-badge.svg\" alt=\"Open In Colab\"/></a>"
      ]
    },
    {
      "cell_type": "code",
      "source": [
        "import warnings\n",
        "warnings.filterwarnings('ignore')\n",
        "\n",
        "import numpy as np\n",
        "import pandas as pd\n",
        "import seaborn as sns\n",
        "import matplotlib.pyplot as plt\n",
        "%matplotlib inline\n",
        "\n",
        "\n",
        "print('numpy version : ',np.__version__)\n",
        "print('pandas version : ',pd.__version__)\n",
        "print('seaborn version : ',sns.__version__)"
      ],
      "metadata": {
        "colab": {
          "base_uri": "https://localhost:8080/"
        },
        "id": "t_y6ANkt45bT",
        "outputId": "2ce9b28d-82ce-4b69-ccf5-9c7bddd0c8ae"
      },
      "execution_count": null,
      "outputs": [
        {
          "output_type": "stream",
          "name": "stdout",
          "text": [
            "numpy version :  2.0.2\n",
            "pandas version :  2.2.2\n",
            "seaborn version :  0.13.2\n"
          ]
        }
      ]
    },
    {
      "cell_type": "code",
      "execution_count": null,
      "metadata": {
        "colab": {
          "base_uri": "https://localhost:8080/",
          "height": 486
        },
        "id": "5M92s7PZMJrX",
        "outputId": "17bab9b1-f9b4-4115-9887-549b635ec5d3"
      },
      "outputs": [
        {
          "output_type": "execute_result",
          "data": {
            "text/plain": [
              "      trending_date                                              title  \\\n",
              "4831     2017-12-10  Sambit Patra vs Kanhaiya Kumar Debate | Chaupa...   \n",
              "8418     2017-12-29  Gali Janardhan Reddy About YS Rajasekhar Reddy...   \n",
              "20863    2018-03-12  JB Junction : പ്രിയ വാര്യര്‍, റോഷന്‍, ഒമര്‍ ലു...   \n",
              "34154    2018-05-31  ખજુરભાઈ as પ્લાસ્ટીકવાળો - Khajurbhai ni moj -...   \n",
              "11601    2018-01-17  Ponnumkasavittu Official Video Song HD | Queen...   \n",
              "\n",
              "            channel_title  category_id publish_time  \\\n",
              "4831         News18 India           25     10:27:00   \n",
              "8418           ABN Telugu           25     10:17:33   \n",
              "20863       KairaliOnline           24     11:49:27   \n",
              "34154  Khajur Bhai Ni Moj           23     06:41:31   \n",
              "11601        satyamvideos           10     13:25:15   \n",
              "\n",
              "                                                    tags   views  likes  \\\n",
              "4831   kanhaiya kumar|\"kanhaiya kumar latest\"|\"kanhai...  497751   9540   \n",
              "8418   gali janardhan reddy|\"gali janardhan reddy ope...  307813   1277   \n",
              "20863  kairali tv|\"kairali tv programmes\"|\"JB Junctio...  131035    659   \n",
              "34154  khajurbhai|\"khajurbhai ni moj\"|\"khajur jigli\"|...  339501   7827   \n",
              "11601  Queen|\"New Malayalam Movie\"|\"Satyam Videos\"|\"S...  121486   2940   \n",
              "\n",
              "       dislikes  comment_count  comments_disabled  ratings_disabled  \\\n",
              "4831        888           9049              False             False   \n",
              "8418        215              0               True             False   \n",
              "20863       349            161              False             False   \n",
              "34154       352            419              False             False   \n",
              "11601        46            114              False             False   \n",
              "\n",
              "       video_error_or_removed  \\\n",
              "4831                    False   \n",
              "8418                    False   \n",
              "20863                   False   \n",
              "34154                   False   \n",
              "11601                   False   \n",
              "\n",
              "                                             description  No_tags  desc_len  \\\n",
              "4831   Chaupal 2017: न्‍यूज18 इंडिया द्वारा आयोजित ‘च...       21      1173   \n",
              "8418   Gali Janardhan Reddy a famous Politician and R...       18      1532   \n",
              "20863  Watch winking girl of India, Priya Prakash war...       25      1366   \n",
              "34154  khajurbhai ni cricket ni moj (IPL) - ખજુરભાઈ a...       14       204   \n",
              "11601  Song : Ponnumkasavittu....\\nFilm : Queen \\nSin...        5      1226   \n",
              "\n",
              "       len_title         publish_date  \n",
              "4831          67  2017-12-07 00:00:00  \n",
              "8418          95  2017-12-26 00:00:00  \n",
              "20863         95  2018-03-11 00:00:00  \n",
              "34154         67  2018-05-31 00:00:00  \n",
              "11601         90  2018-01-16 00:00:00  "
            ],
            "text/html": [
              "\n",
              "  <div id=\"df-8bf1c756-9271-45d8-9c58-186dfc33ead2\" class=\"colab-df-container\">\n",
              "    <div>\n",
              "<style scoped>\n",
              "    .dataframe tbody tr th:only-of-type {\n",
              "        vertical-align: middle;\n",
              "    }\n",
              "\n",
              "    .dataframe tbody tr th {\n",
              "        vertical-align: top;\n",
              "    }\n",
              "\n",
              "    .dataframe thead th {\n",
              "        text-align: right;\n",
              "    }\n",
              "</style>\n",
              "<table border=\"1\" class=\"dataframe\">\n",
              "  <thead>\n",
              "    <tr style=\"text-align: right;\">\n",
              "      <th></th>\n",
              "      <th>trending_date</th>\n",
              "      <th>title</th>\n",
              "      <th>channel_title</th>\n",
              "      <th>category_id</th>\n",
              "      <th>publish_time</th>\n",
              "      <th>tags</th>\n",
              "      <th>views</th>\n",
              "      <th>likes</th>\n",
              "      <th>dislikes</th>\n",
              "      <th>comment_count</th>\n",
              "      <th>comments_disabled</th>\n",
              "      <th>ratings_disabled</th>\n",
              "      <th>video_error_or_removed</th>\n",
              "      <th>description</th>\n",
              "      <th>No_tags</th>\n",
              "      <th>desc_len</th>\n",
              "      <th>len_title</th>\n",
              "      <th>publish_date</th>\n",
              "    </tr>\n",
              "  </thead>\n",
              "  <tbody>\n",
              "    <tr>\n",
              "      <th>4831</th>\n",
              "      <td>2017-12-10</td>\n",
              "      <td>Sambit Patra vs Kanhaiya Kumar Debate | Chaupa...</td>\n",
              "      <td>News18 India</td>\n",
              "      <td>25</td>\n",
              "      <td>10:27:00</td>\n",
              "      <td>kanhaiya kumar|\"kanhaiya kumar latest\"|\"kanhai...</td>\n",
              "      <td>497751</td>\n",
              "      <td>9540</td>\n",
              "      <td>888</td>\n",
              "      <td>9049</td>\n",
              "      <td>False</td>\n",
              "      <td>False</td>\n",
              "      <td>False</td>\n",
              "      <td>Chaupal 2017: न्‍यूज18 इंडिया द्वारा आयोजित ‘च...</td>\n",
              "      <td>21</td>\n",
              "      <td>1173</td>\n",
              "      <td>67</td>\n",
              "      <td>2017-12-07 00:00:00</td>\n",
              "    </tr>\n",
              "    <tr>\n",
              "      <th>8418</th>\n",
              "      <td>2017-12-29</td>\n",
              "      <td>Gali Janardhan Reddy About YS Rajasekhar Reddy...</td>\n",
              "      <td>ABN Telugu</td>\n",
              "      <td>25</td>\n",
              "      <td>10:17:33</td>\n",
              "      <td>gali janardhan reddy|\"gali janardhan reddy ope...</td>\n",
              "      <td>307813</td>\n",
              "      <td>1277</td>\n",
              "      <td>215</td>\n",
              "      <td>0</td>\n",
              "      <td>True</td>\n",
              "      <td>False</td>\n",
              "      <td>False</td>\n",
              "      <td>Gali Janardhan Reddy a famous Politician and R...</td>\n",
              "      <td>18</td>\n",
              "      <td>1532</td>\n",
              "      <td>95</td>\n",
              "      <td>2017-12-26 00:00:00</td>\n",
              "    </tr>\n",
              "    <tr>\n",
              "      <th>20863</th>\n",
              "      <td>2018-03-12</td>\n",
              "      <td>JB Junction : പ്രിയ വാര്യര്‍, റോഷന്‍, ഒമര്‍ ലു...</td>\n",
              "      <td>KairaliOnline</td>\n",
              "      <td>24</td>\n",
              "      <td>11:49:27</td>\n",
              "      <td>kairali tv|\"kairali tv programmes\"|\"JB Junctio...</td>\n",
              "      <td>131035</td>\n",
              "      <td>659</td>\n",
              "      <td>349</td>\n",
              "      <td>161</td>\n",
              "      <td>False</td>\n",
              "      <td>False</td>\n",
              "      <td>False</td>\n",
              "      <td>Watch winking girl of India, Priya Prakash war...</td>\n",
              "      <td>25</td>\n",
              "      <td>1366</td>\n",
              "      <td>95</td>\n",
              "      <td>2018-03-11 00:00:00</td>\n",
              "    </tr>\n",
              "    <tr>\n",
              "      <th>34154</th>\n",
              "      <td>2018-05-31</td>\n",
              "      <td>ખજુરભાઈ as પ્લાસ્ટીકવાળો - Khajurbhai ni moj -...</td>\n",
              "      <td>Khajur Bhai Ni Moj</td>\n",
              "      <td>23</td>\n",
              "      <td>06:41:31</td>\n",
              "      <td>khajurbhai|\"khajurbhai ni moj\"|\"khajur jigli\"|...</td>\n",
              "      <td>339501</td>\n",
              "      <td>7827</td>\n",
              "      <td>352</td>\n",
              "      <td>419</td>\n",
              "      <td>False</td>\n",
              "      <td>False</td>\n",
              "      <td>False</td>\n",
              "      <td>khajurbhai ni cricket ni moj (IPL) - ખજુરભાઈ a...</td>\n",
              "      <td>14</td>\n",
              "      <td>204</td>\n",
              "      <td>67</td>\n",
              "      <td>2018-05-31 00:00:00</td>\n",
              "    </tr>\n",
              "    <tr>\n",
              "      <th>11601</th>\n",
              "      <td>2018-01-17</td>\n",
              "      <td>Ponnumkasavittu Official Video Song HD | Queen...</td>\n",
              "      <td>satyamvideos</td>\n",
              "      <td>10</td>\n",
              "      <td>13:25:15</td>\n",
              "      <td>Queen|\"New Malayalam Movie\"|\"Satyam Videos\"|\"S...</td>\n",
              "      <td>121486</td>\n",
              "      <td>2940</td>\n",
              "      <td>46</td>\n",
              "      <td>114</td>\n",
              "      <td>False</td>\n",
              "      <td>False</td>\n",
              "      <td>False</td>\n",
              "      <td>Song : Ponnumkasavittu....\\nFilm : Queen \\nSin...</td>\n",
              "      <td>5</td>\n",
              "      <td>1226</td>\n",
              "      <td>90</td>\n",
              "      <td>2018-01-16 00:00:00</td>\n",
              "    </tr>\n",
              "  </tbody>\n",
              "</table>\n",
              "</div>\n",
              "    <div class=\"colab-df-buttons\">\n",
              "\n",
              "  <div class=\"colab-df-container\">\n",
              "    <button class=\"colab-df-convert\" onclick=\"convertToInteractive('df-8bf1c756-9271-45d8-9c58-186dfc33ead2')\"\n",
              "            title=\"Convert this dataframe to an interactive table.\"\n",
              "            style=\"display:none;\">\n",
              "\n",
              "  <svg xmlns=\"http://www.w3.org/2000/svg\" height=\"24px\" viewBox=\"0 -960 960 960\">\n",
              "    <path d=\"M120-120v-720h720v720H120Zm60-500h600v-160H180v160Zm220 220h160v-160H400v160Zm0 220h160v-160H400v160ZM180-400h160v-160H180v160Zm440 0h160v-160H620v160ZM180-180h160v-160H180v160Zm440 0h160v-160H620v160Z\"/>\n",
              "  </svg>\n",
              "    </button>\n",
              "\n",
              "  <style>\n",
              "    .colab-df-container {\n",
              "      display:flex;\n",
              "      gap: 12px;\n",
              "    }\n",
              "\n",
              "    .colab-df-convert {\n",
              "      background-color: #E8F0FE;\n",
              "      border: none;\n",
              "      border-radius: 50%;\n",
              "      cursor: pointer;\n",
              "      display: none;\n",
              "      fill: #1967D2;\n",
              "      height: 32px;\n",
              "      padding: 0 0 0 0;\n",
              "      width: 32px;\n",
              "    }\n",
              "\n",
              "    .colab-df-convert:hover {\n",
              "      background-color: #E2EBFA;\n",
              "      box-shadow: 0px 1px 2px rgba(60, 64, 67, 0.3), 0px 1px 3px 1px rgba(60, 64, 67, 0.15);\n",
              "      fill: #174EA6;\n",
              "    }\n",
              "\n",
              "    .colab-df-buttons div {\n",
              "      margin-bottom: 4px;\n",
              "    }\n",
              "\n",
              "    [theme=dark] .colab-df-convert {\n",
              "      background-color: #3B4455;\n",
              "      fill: #D2E3FC;\n",
              "    }\n",
              "\n",
              "    [theme=dark] .colab-df-convert:hover {\n",
              "      background-color: #434B5C;\n",
              "      box-shadow: 0px 1px 3px 1px rgba(0, 0, 0, 0.15);\n",
              "      filter: drop-shadow(0px 1px 2px rgba(0, 0, 0, 0.3));\n",
              "      fill: #FFFFFF;\n",
              "    }\n",
              "  </style>\n",
              "\n",
              "    <script>\n",
              "      const buttonEl =\n",
              "        document.querySelector('#df-8bf1c756-9271-45d8-9c58-186dfc33ead2 button.colab-df-convert');\n",
              "      buttonEl.style.display =\n",
              "        google.colab.kernel.accessAllowed ? 'block' : 'none';\n",
              "\n",
              "      async function convertToInteractive(key) {\n",
              "        const element = document.querySelector('#df-8bf1c756-9271-45d8-9c58-186dfc33ead2');\n",
              "        const dataTable =\n",
              "          await google.colab.kernel.invokeFunction('convertToInteractive',\n",
              "                                                    [key], {});\n",
              "        if (!dataTable) return;\n",
              "\n",
              "        const docLinkHtml = 'Like what you see? Visit the ' +\n",
              "          '<a target=\"_blank\" href=https://colab.research.google.com/notebooks/data_table.ipynb>data table notebook</a>'\n",
              "          + ' to learn more about interactive tables.';\n",
              "        element.innerHTML = '';\n",
              "        dataTable['output_type'] = 'display_data';\n",
              "        await google.colab.output.renderOutput(dataTable, element);\n",
              "        const docLink = document.createElement('div');\n",
              "        docLink.innerHTML = docLinkHtml;\n",
              "        element.appendChild(docLink);\n",
              "      }\n",
              "    </script>\n",
              "  </div>\n",
              "\n",
              "\n",
              "    <div id=\"df-db0e7046-3acc-4335-970d-40ad2f074e20\">\n",
              "      <button class=\"colab-df-quickchart\" onclick=\"quickchart('df-db0e7046-3acc-4335-970d-40ad2f074e20')\"\n",
              "                title=\"Suggest charts\"\n",
              "                style=\"display:none;\">\n",
              "\n",
              "<svg xmlns=\"http://www.w3.org/2000/svg\" height=\"24px\"viewBox=\"0 0 24 24\"\n",
              "     width=\"24px\">\n",
              "    <g>\n",
              "        <path d=\"M19 3H5c-1.1 0-2 .9-2 2v14c0 1.1.9 2 2 2h14c1.1 0 2-.9 2-2V5c0-1.1-.9-2-2-2zM9 17H7v-7h2v7zm4 0h-2V7h2v10zm4 0h-2v-4h2v4z\"/>\n",
              "    </g>\n",
              "</svg>\n",
              "      </button>\n",
              "\n",
              "<style>\n",
              "  .colab-df-quickchart {\n",
              "      --bg-color: #E8F0FE;\n",
              "      --fill-color: #1967D2;\n",
              "      --hover-bg-color: #E2EBFA;\n",
              "      --hover-fill-color: #174EA6;\n",
              "      --disabled-fill-color: #AAA;\n",
              "      --disabled-bg-color: #DDD;\n",
              "  }\n",
              "\n",
              "  [theme=dark] .colab-df-quickchart {\n",
              "      --bg-color: #3B4455;\n",
              "      --fill-color: #D2E3FC;\n",
              "      --hover-bg-color: #434B5C;\n",
              "      --hover-fill-color: #FFFFFF;\n",
              "      --disabled-bg-color: #3B4455;\n",
              "      --disabled-fill-color: #666;\n",
              "  }\n",
              "\n",
              "  .colab-df-quickchart {\n",
              "    background-color: var(--bg-color);\n",
              "    border: none;\n",
              "    border-radius: 50%;\n",
              "    cursor: pointer;\n",
              "    display: none;\n",
              "    fill: var(--fill-color);\n",
              "    height: 32px;\n",
              "    padding: 0;\n",
              "    width: 32px;\n",
              "  }\n",
              "\n",
              "  .colab-df-quickchart:hover {\n",
              "    background-color: var(--hover-bg-color);\n",
              "    box-shadow: 0 1px 2px rgba(60, 64, 67, 0.3), 0 1px 3px 1px rgba(60, 64, 67, 0.15);\n",
              "    fill: var(--button-hover-fill-color);\n",
              "  }\n",
              "\n",
              "  .colab-df-quickchart-complete:disabled,\n",
              "  .colab-df-quickchart-complete:disabled:hover {\n",
              "    background-color: var(--disabled-bg-color);\n",
              "    fill: var(--disabled-fill-color);\n",
              "    box-shadow: none;\n",
              "  }\n",
              "\n",
              "  .colab-df-spinner {\n",
              "    border: 2px solid var(--fill-color);\n",
              "    border-color: transparent;\n",
              "    border-bottom-color: var(--fill-color);\n",
              "    animation:\n",
              "      spin 1s steps(1) infinite;\n",
              "  }\n",
              "\n",
              "  @keyframes spin {\n",
              "    0% {\n",
              "      border-color: transparent;\n",
              "      border-bottom-color: var(--fill-color);\n",
              "      border-left-color: var(--fill-color);\n",
              "    }\n",
              "    20% {\n",
              "      border-color: transparent;\n",
              "      border-left-color: var(--fill-color);\n",
              "      border-top-color: var(--fill-color);\n",
              "    }\n",
              "    30% {\n",
              "      border-color: transparent;\n",
              "      border-left-color: var(--fill-color);\n",
              "      border-top-color: var(--fill-color);\n",
              "      border-right-color: var(--fill-color);\n",
              "    }\n",
              "    40% {\n",
              "      border-color: transparent;\n",
              "      border-right-color: var(--fill-color);\n",
              "      border-top-color: var(--fill-color);\n",
              "    }\n",
              "    60% {\n",
              "      border-color: transparent;\n",
              "      border-right-color: var(--fill-color);\n",
              "    }\n",
              "    80% {\n",
              "      border-color: transparent;\n",
              "      border-right-color: var(--fill-color);\n",
              "      border-bottom-color: var(--fill-color);\n",
              "    }\n",
              "    90% {\n",
              "      border-color: transparent;\n",
              "      border-bottom-color: var(--fill-color);\n",
              "    }\n",
              "  }\n",
              "</style>\n",
              "\n",
              "      <script>\n",
              "        async function quickchart(key) {\n",
              "          const quickchartButtonEl =\n",
              "            document.querySelector('#' + key + ' button');\n",
              "          quickchartButtonEl.disabled = true;  // To prevent multiple clicks.\n",
              "          quickchartButtonEl.classList.add('colab-df-spinner');\n",
              "          try {\n",
              "            const charts = await google.colab.kernel.invokeFunction(\n",
              "                'suggestCharts', [key], {});\n",
              "          } catch (error) {\n",
              "            console.error('Error during call to suggestCharts:', error);\n",
              "          }\n",
              "          quickchartButtonEl.classList.remove('colab-df-spinner');\n",
              "          quickchartButtonEl.classList.add('colab-df-quickchart-complete');\n",
              "        }\n",
              "        (() => {\n",
              "          let quickchartButtonEl =\n",
              "            document.querySelector('#df-db0e7046-3acc-4335-970d-40ad2f074e20 button');\n",
              "          quickchartButtonEl.style.display =\n",
              "            google.colab.kernel.accessAllowed ? 'block' : 'none';\n",
              "        })();\n",
              "      </script>\n",
              "    </div>\n",
              "\n",
              "    </div>\n",
              "  </div>\n"
            ],
            "application/vnd.google.colaboratory.intrinsic+json": {
              "type": "dataframe",
              "repr_error": "0"
            }
          },
          "metadata": {},
          "execution_count": 2
        }
      ],
      "source": [
        "# Link CSV Google Sheets\n",
        "url = \"https://docs.google.com/spreadsheets/d/1udQirplaI0mAGJnuZPlPHPaxr7RtisYt/export?format=csv&gid=1632283680\"\n",
        "\n",
        "# Baca file CSV\n",
        "df = pd.read_csv(url)\n",
        "\n",
        "# Tampilkan 5 baris sample\n",
        "df.sample(5)"
      ]
    },
    {
      "cell_type": "markdown",
      "source": [
        "# Exploratory Data Analysis"
      ],
      "metadata": {
        "id": "j5hwYQ4S51UP"
      }
    },
    {
      "cell_type": "markdown",
      "source": [
        "Definisi masing-masing kolom\n",
        "\n",
        "● trending_date: tanggal ketika video trending <br>\n",
        "● title: judul video<br>\n",
        "● channel_title: nama channel<br>\n",
        "● category_id: kategori video dalam label encoding<br>\n",
        "● publish_time: waktu publish video<br>\n",
        "● tags: tag yang digunakan pada video<br>\n",
        "● views: jumlah views video<br>\n",
        "● likes: jumlah likes video<br>\n",
        "● dislikes: jumlah dislikes video<br>\n",
        "● comment_count: jumlah komentar pada video<br>\n",
        "● comments_disabled: apakah status komentar dinonaktifkan pada video<br>\n",
        "● ratings_disabled: apakah rating dinonaktifkan pada video<br>\n",
        "● video_error_or_removed: apakah video error atau sudah dihapus saat ini<br>\n",
        "● description: deskripsi video<br>\n",
        "● No_tags: jumlah tags yang digunakan<br>\n",
        "● desc_len: panjang kata deskripsi video<br>\n",
        "● len_title: panjang kata judul video<br>\n",
        "● publish_date: tanggal publish video"
      ],
      "metadata": {
        "id": "dVLcP7Bo5g-c"
      }
    },
    {
      "cell_type": "code",
      "source": [
        "df.info()"
      ],
      "metadata": {
        "id": "Pl-V7L17Qxfo",
        "colab": {
          "base_uri": "https://localhost:8080/"
        },
        "outputId": "6502f216-8f7c-4282-e393-e697471a3a4b"
      },
      "execution_count": null,
      "outputs": [
        {
          "output_type": "stream",
          "name": "stdout",
          "text": [
            "<class 'pandas.core.frame.DataFrame'>\n",
            "RangeIndex: 36791 entries, 0 to 36790\n",
            "Data columns (total 18 columns):\n",
            " #   Column                  Non-Null Count  Dtype \n",
            "---  ------                  --------------  ----- \n",
            " 0   trending_date           36791 non-null  object\n",
            " 1   title                   36791 non-null  object\n",
            " 2   channel_title           36791 non-null  object\n",
            " 3   category_id             36791 non-null  int64 \n",
            " 4   publish_time            36791 non-null  object\n",
            " 5   tags                    36791 non-null  object\n",
            " 6   views                   36791 non-null  int64 \n",
            " 7   likes                   36791 non-null  int64 \n",
            " 8   dislikes                36791 non-null  int64 \n",
            " 9   comment_count           36791 non-null  int64 \n",
            " 10  comments_disabled       36791 non-null  bool  \n",
            " 11  ratings_disabled        36791 non-null  bool  \n",
            " 12  video_error_or_removed  36791 non-null  bool  \n",
            " 13  description             36746 non-null  object\n",
            " 14  No_tags                 36791 non-null  int64 \n",
            " 15  desc_len                36791 non-null  int64 \n",
            " 16  len_title               36791 non-null  int64 \n",
            " 17  publish_date            36791 non-null  object\n",
            "dtypes: bool(3), int64(8), object(7)\n",
            "memory usage: 4.3+ MB\n"
          ]
        }
      ]
    },
    {
      "cell_type": "code",
      "source": [
        "# pengelompokan kolom berdasarkan jenisnya\n",
        "cats = ['title',  'category_id', 'channel_title', 'tags', 'comments_disabled', 'ratings_disabled', 'video_error_or_removed', 'description']\n",
        "nums = ['views', 'likes', 'dislikes', 'comment_count', 'No_tags', 'desc_len', 'len_title']\n",
        "timestamp = ['publish_time', 'publish_date', 'trending_date']\n",
        "\n",
        "print(f'Jumlah kolom kategorikal: {len(cats)}')\n",
        "print(f'Jumlah kolom numerikal: {len(nums)}')\n",
        "print(f'Jumlah kolom timestamp: {len(timestamp)}')\n",
        "print(f'Jumlah total kolom: {len(cats) + len(nums) + len(timestamp)}')"
      ],
      "metadata": {
        "colab": {
          "base_uri": "https://localhost:8080/"
        },
        "id": "xPhpI-_V57en",
        "outputId": "73474f7f-053c-4293-9f26-7a14da4348cd"
      },
      "execution_count": null,
      "outputs": [
        {
          "output_type": "stream",
          "name": "stdout",
          "text": [
            "Jumlah kolom kategorikal: 8\n",
            "Jumlah kolom numerikal: 7\n",
            "Jumlah kolom timestamp: 3\n",
            "Jumlah total kolom: 18\n"
          ]
        }
      ]
    },
    {
      "cell_type": "markdown",
      "source": [
        "#Handling Missing value, ubah tipe data, duplicate"
      ],
      "metadata": {
        "id": "MwQcHOOCthdL"
      }
    },
    {
      "cell_type": "code",
      "source": [
        "#Ubah tipe data yg belum sesuai\n",
        "df['trending_date'] = pd.to_datetime(df['trending_date'])\n",
        "#df['publish_time'] = pd.to_datetime(df['publish_time'])\n",
        "df['publish_time'] = pd.to_datetime(df['publish_time'], format='%H:%M:%S').dt.time\n",
        "df['publish_date'] = pd.to_datetime(df['publish_date'])\n",
        "df['category_id'] = df['category_id'].astype(str)"
      ],
      "metadata": {
        "id": "JbI2JDUUtsYu"
      },
      "execution_count": null,
      "outputs": []
    },
    {
      "cell_type": "code",
      "source": [
        "# Data yang null\n",
        "print(df.isna().sum())"
      ],
      "metadata": {
        "colab": {
          "base_uri": "https://localhost:8080/"
        },
        "id": "4LhFQl2i6jes",
        "outputId": "8c55b234-7074-4130-8ece-d370e81b4264"
      },
      "execution_count": null,
      "outputs": [
        {
          "output_type": "stream",
          "name": "stdout",
          "text": [
            "trending_date              0\n",
            "title                      0\n",
            "channel_title              0\n",
            "category_id                0\n",
            "publish_time               0\n",
            "tags                       0\n",
            "views                      0\n",
            "likes                      0\n",
            "dislikes                   0\n",
            "comment_count              0\n",
            "comments_disabled          0\n",
            "ratings_disabled           0\n",
            "video_error_or_removed     0\n",
            "description               45\n",
            "No_tags                    0\n",
            "desc_len                   0\n",
            "len_title                  0\n",
            "publish_date               0\n",
            "dtype: int64\n"
          ]
        }
      ]
    },
    {
      "cell_type": "markdown",
      "source": [
        "Terdapat nilai Null pada kolom 'description' sebanyak 45 mungkin bisa di drop saja."
      ],
      "metadata": {
        "id": "QuXHVJbl6wEi"
      }
    },
    {
      "cell_type": "code",
      "source": [
        "#Drop nilai null\n",
        "df.dropna(inplace=True)"
      ],
      "metadata": {
        "id": "UVjOMfhSuSJv"
      },
      "execution_count": null,
      "outputs": []
    },
    {
      "cell_type": "code",
      "source": [
        "#cek duplikasi\n",
        "df.duplicated().sum()"
      ],
      "metadata": {
        "colab": {
          "base_uri": "https://localhost:8080/"
        },
        "id": "tKMiypt-uTH2",
        "outputId": "249899d3-6d1f-4201-b248-61536eec5c85"
      },
      "execution_count": null,
      "outputs": [
        {
          "output_type": "execute_result",
          "data": {
            "text/plain": [
              "np.int64(4228)"
            ]
          },
          "metadata": {},
          "execution_count": 8
        }
      ]
    },
    {
      "cell_type": "code",
      "source": [
        "#Hapus Duplikasi\n",
        "df.drop_duplicates(inplace=True)"
      ],
      "metadata": {
        "id": "wJqxfzCwuZK1"
      },
      "execution_count": null,
      "outputs": []
    },
    {
      "cell_type": "code",
      "source": [
        "#Cek data\n",
        "df.info()"
      ],
      "metadata": {
        "colab": {
          "base_uri": "https://localhost:8080/"
        },
        "id": "26ltGQjFvTcE",
        "outputId": "0044f850-8f2c-4648-82b0-6adcf57ea38a"
      },
      "execution_count": null,
      "outputs": [
        {
          "output_type": "stream",
          "name": "stdout",
          "text": [
            "<class 'pandas.core.frame.DataFrame'>\n",
            "Index: 32518 entries, 0 to 36769\n",
            "Data columns (total 18 columns):\n",
            " #   Column                  Non-Null Count  Dtype         \n",
            "---  ------                  --------------  -----         \n",
            " 0   trending_date           32518 non-null  datetime64[ns]\n",
            " 1   title                   32518 non-null  object        \n",
            " 2   channel_title           32518 non-null  object        \n",
            " 3   category_id             32518 non-null  object        \n",
            " 4   publish_time            32518 non-null  object        \n",
            " 5   tags                    32518 non-null  object        \n",
            " 6   views                   32518 non-null  int64         \n",
            " 7   likes                   32518 non-null  int64         \n",
            " 8   dislikes                32518 non-null  int64         \n",
            " 9   comment_count           32518 non-null  int64         \n",
            " 10  comments_disabled       32518 non-null  bool          \n",
            " 11  ratings_disabled        32518 non-null  bool          \n",
            " 12  video_error_or_removed  32518 non-null  bool          \n",
            " 13  description             32518 non-null  object        \n",
            " 14  No_tags                 32518 non-null  int64         \n",
            " 15  desc_len                32518 non-null  int64         \n",
            " 16  len_title               32518 non-null  int64         \n",
            " 17  publish_date            32518 non-null  datetime64[ns]\n",
            "dtypes: bool(3), datetime64[ns](2), int64(7), object(6)\n",
            "memory usage: 4.1+ MB\n"
          ]
        }
      ]
    },
    {
      "cell_type": "markdown",
      "source": [
        "#Deskripsi Statistik"
      ],
      "metadata": {
        "id": "f4yeCumzvgnb"
      }
    },
    {
      "cell_type": "code",
      "source": [
        "df[nums].describe()"
      ],
      "metadata": {
        "colab": {
          "base_uri": "https://localhost:8080/",
          "height": 300
        },
        "id": "vGEi7fzC59W1",
        "outputId": "e589d904-f3c3-4d37-9e16-bd0960831b87"
      },
      "execution_count": null,
      "outputs": [
        {
          "output_type": "execute_result",
          "data": {
            "text/plain": [
              "              views         likes      dislikes  comment_count       No_tags  \\\n",
              "count  3.251800e+04  3.251800e+04  3.251800e+04   32518.000000  32518.000000   \n",
              "mean   1.007332e+06  2.597309e+04  1.598092e+03    2562.143459     18.857095   \n",
              "std    3.172604e+06  9.725560e+04  1.704237e+04   14893.497092      9.865278   \n",
              "min    4.024000e+03  0.000000e+00  0.000000e+00       0.000000      1.000000   \n",
              "25%    1.142148e+05  8.000000e+02  9.900000e+01      74.000000     12.000000   \n",
              "50%    2.779045e+05  2.822000e+03  2.940000e+02     306.500000     19.000000   \n",
              "75%    7.394835e+05  1.233075e+04  9.447500e+02    1190.000000     25.000000   \n",
              "max    1.254322e+08  2.912710e+06  1.545017e+06  827755.000000     72.000000   \n",
              "\n",
              "           desc_len     len_title  \n",
              "count  32518.000000  32518.000000  \n",
              "mean     911.403592     70.998862  \n",
              "std      805.796673     22.287741  \n",
              "min        3.000000      5.000000  \n",
              "25%      365.000000     54.000000  \n",
              "50%      673.000000     75.000000  \n",
              "75%     1222.000000     91.000000  \n",
              "max     5136.000000    100.000000  "
            ],
            "text/html": [
              "\n",
              "  <div id=\"df-eee526eb-ecdc-4d59-9972-5eb55d935b90\" class=\"colab-df-container\">\n",
              "    <div>\n",
              "<style scoped>\n",
              "    .dataframe tbody tr th:only-of-type {\n",
              "        vertical-align: middle;\n",
              "    }\n",
              "\n",
              "    .dataframe tbody tr th {\n",
              "        vertical-align: top;\n",
              "    }\n",
              "\n",
              "    .dataframe thead th {\n",
              "        text-align: right;\n",
              "    }\n",
              "</style>\n",
              "<table border=\"1\" class=\"dataframe\">\n",
              "  <thead>\n",
              "    <tr style=\"text-align: right;\">\n",
              "      <th></th>\n",
              "      <th>views</th>\n",
              "      <th>likes</th>\n",
              "      <th>dislikes</th>\n",
              "      <th>comment_count</th>\n",
              "      <th>No_tags</th>\n",
              "      <th>desc_len</th>\n",
              "      <th>len_title</th>\n",
              "    </tr>\n",
              "  </thead>\n",
              "  <tbody>\n",
              "    <tr>\n",
              "      <th>count</th>\n",
              "      <td>3.251800e+04</td>\n",
              "      <td>3.251800e+04</td>\n",
              "      <td>3.251800e+04</td>\n",
              "      <td>32518.000000</td>\n",
              "      <td>32518.000000</td>\n",
              "      <td>32518.000000</td>\n",
              "      <td>32518.000000</td>\n",
              "    </tr>\n",
              "    <tr>\n",
              "      <th>mean</th>\n",
              "      <td>1.007332e+06</td>\n",
              "      <td>2.597309e+04</td>\n",
              "      <td>1.598092e+03</td>\n",
              "      <td>2562.143459</td>\n",
              "      <td>18.857095</td>\n",
              "      <td>911.403592</td>\n",
              "      <td>70.998862</td>\n",
              "    </tr>\n",
              "    <tr>\n",
              "      <th>std</th>\n",
              "      <td>3.172604e+06</td>\n",
              "      <td>9.725560e+04</td>\n",
              "      <td>1.704237e+04</td>\n",
              "      <td>14893.497092</td>\n",
              "      <td>9.865278</td>\n",
              "      <td>805.796673</td>\n",
              "      <td>22.287741</td>\n",
              "    </tr>\n",
              "    <tr>\n",
              "      <th>min</th>\n",
              "      <td>4.024000e+03</td>\n",
              "      <td>0.000000e+00</td>\n",
              "      <td>0.000000e+00</td>\n",
              "      <td>0.000000</td>\n",
              "      <td>1.000000</td>\n",
              "      <td>3.000000</td>\n",
              "      <td>5.000000</td>\n",
              "    </tr>\n",
              "    <tr>\n",
              "      <th>25%</th>\n",
              "      <td>1.142148e+05</td>\n",
              "      <td>8.000000e+02</td>\n",
              "      <td>9.900000e+01</td>\n",
              "      <td>74.000000</td>\n",
              "      <td>12.000000</td>\n",
              "      <td>365.000000</td>\n",
              "      <td>54.000000</td>\n",
              "    </tr>\n",
              "    <tr>\n",
              "      <th>50%</th>\n",
              "      <td>2.779045e+05</td>\n",
              "      <td>2.822000e+03</td>\n",
              "      <td>2.940000e+02</td>\n",
              "      <td>306.500000</td>\n",
              "      <td>19.000000</td>\n",
              "      <td>673.000000</td>\n",
              "      <td>75.000000</td>\n",
              "    </tr>\n",
              "    <tr>\n",
              "      <th>75%</th>\n",
              "      <td>7.394835e+05</td>\n",
              "      <td>1.233075e+04</td>\n",
              "      <td>9.447500e+02</td>\n",
              "      <td>1190.000000</td>\n",
              "      <td>25.000000</td>\n",
              "      <td>1222.000000</td>\n",
              "      <td>91.000000</td>\n",
              "    </tr>\n",
              "    <tr>\n",
              "      <th>max</th>\n",
              "      <td>1.254322e+08</td>\n",
              "      <td>2.912710e+06</td>\n",
              "      <td>1.545017e+06</td>\n",
              "      <td>827755.000000</td>\n",
              "      <td>72.000000</td>\n",
              "      <td>5136.000000</td>\n",
              "      <td>100.000000</td>\n",
              "    </tr>\n",
              "  </tbody>\n",
              "</table>\n",
              "</div>\n",
              "    <div class=\"colab-df-buttons\">\n",
              "\n",
              "  <div class=\"colab-df-container\">\n",
              "    <button class=\"colab-df-convert\" onclick=\"convertToInteractive('df-eee526eb-ecdc-4d59-9972-5eb55d935b90')\"\n",
              "            title=\"Convert this dataframe to an interactive table.\"\n",
              "            style=\"display:none;\">\n",
              "\n",
              "  <svg xmlns=\"http://www.w3.org/2000/svg\" height=\"24px\" viewBox=\"0 -960 960 960\">\n",
              "    <path d=\"M120-120v-720h720v720H120Zm60-500h600v-160H180v160Zm220 220h160v-160H400v160Zm0 220h160v-160H400v160ZM180-400h160v-160H180v160Zm440 0h160v-160H620v160ZM180-180h160v-160H180v160Zm440 0h160v-160H620v160Z\"/>\n",
              "  </svg>\n",
              "    </button>\n",
              "\n",
              "  <style>\n",
              "    .colab-df-container {\n",
              "      display:flex;\n",
              "      gap: 12px;\n",
              "    }\n",
              "\n",
              "    .colab-df-convert {\n",
              "      background-color: #E8F0FE;\n",
              "      border: none;\n",
              "      border-radius: 50%;\n",
              "      cursor: pointer;\n",
              "      display: none;\n",
              "      fill: #1967D2;\n",
              "      height: 32px;\n",
              "      padding: 0 0 0 0;\n",
              "      width: 32px;\n",
              "    }\n",
              "\n",
              "    .colab-df-convert:hover {\n",
              "      background-color: #E2EBFA;\n",
              "      box-shadow: 0px 1px 2px rgba(60, 64, 67, 0.3), 0px 1px 3px 1px rgba(60, 64, 67, 0.15);\n",
              "      fill: #174EA6;\n",
              "    }\n",
              "\n",
              "    .colab-df-buttons div {\n",
              "      margin-bottom: 4px;\n",
              "    }\n",
              "\n",
              "    [theme=dark] .colab-df-convert {\n",
              "      background-color: #3B4455;\n",
              "      fill: #D2E3FC;\n",
              "    }\n",
              "\n",
              "    [theme=dark] .colab-df-convert:hover {\n",
              "      background-color: #434B5C;\n",
              "      box-shadow: 0px 1px 3px 1px rgba(0, 0, 0, 0.15);\n",
              "      filter: drop-shadow(0px 1px 2px rgba(0, 0, 0, 0.3));\n",
              "      fill: #FFFFFF;\n",
              "    }\n",
              "  </style>\n",
              "\n",
              "    <script>\n",
              "      const buttonEl =\n",
              "        document.querySelector('#df-eee526eb-ecdc-4d59-9972-5eb55d935b90 button.colab-df-convert');\n",
              "      buttonEl.style.display =\n",
              "        google.colab.kernel.accessAllowed ? 'block' : 'none';\n",
              "\n",
              "      async function convertToInteractive(key) {\n",
              "        const element = document.querySelector('#df-eee526eb-ecdc-4d59-9972-5eb55d935b90');\n",
              "        const dataTable =\n",
              "          await google.colab.kernel.invokeFunction('convertToInteractive',\n",
              "                                                    [key], {});\n",
              "        if (!dataTable) return;\n",
              "\n",
              "        const docLinkHtml = 'Like what you see? Visit the ' +\n",
              "          '<a target=\"_blank\" href=https://colab.research.google.com/notebooks/data_table.ipynb>data table notebook</a>'\n",
              "          + ' to learn more about interactive tables.';\n",
              "        element.innerHTML = '';\n",
              "        dataTable['output_type'] = 'display_data';\n",
              "        await google.colab.output.renderOutput(dataTable, element);\n",
              "        const docLink = document.createElement('div');\n",
              "        docLink.innerHTML = docLinkHtml;\n",
              "        element.appendChild(docLink);\n",
              "      }\n",
              "    </script>\n",
              "  </div>\n",
              "\n",
              "\n",
              "    <div id=\"df-c30bd153-4e5c-4798-9a71-ed653e7f7781\">\n",
              "      <button class=\"colab-df-quickchart\" onclick=\"quickchart('df-c30bd153-4e5c-4798-9a71-ed653e7f7781')\"\n",
              "                title=\"Suggest charts\"\n",
              "                style=\"display:none;\">\n",
              "\n",
              "<svg xmlns=\"http://www.w3.org/2000/svg\" height=\"24px\"viewBox=\"0 0 24 24\"\n",
              "     width=\"24px\">\n",
              "    <g>\n",
              "        <path d=\"M19 3H5c-1.1 0-2 .9-2 2v14c0 1.1.9 2 2 2h14c1.1 0 2-.9 2-2V5c0-1.1-.9-2-2-2zM9 17H7v-7h2v7zm4 0h-2V7h2v10zm4 0h-2v-4h2v4z\"/>\n",
              "    </g>\n",
              "</svg>\n",
              "      </button>\n",
              "\n",
              "<style>\n",
              "  .colab-df-quickchart {\n",
              "      --bg-color: #E8F0FE;\n",
              "      --fill-color: #1967D2;\n",
              "      --hover-bg-color: #E2EBFA;\n",
              "      --hover-fill-color: #174EA6;\n",
              "      --disabled-fill-color: #AAA;\n",
              "      --disabled-bg-color: #DDD;\n",
              "  }\n",
              "\n",
              "  [theme=dark] .colab-df-quickchart {\n",
              "      --bg-color: #3B4455;\n",
              "      --fill-color: #D2E3FC;\n",
              "      --hover-bg-color: #434B5C;\n",
              "      --hover-fill-color: #FFFFFF;\n",
              "      --disabled-bg-color: #3B4455;\n",
              "      --disabled-fill-color: #666;\n",
              "  }\n",
              "\n",
              "  .colab-df-quickchart {\n",
              "    background-color: var(--bg-color);\n",
              "    border: none;\n",
              "    border-radius: 50%;\n",
              "    cursor: pointer;\n",
              "    display: none;\n",
              "    fill: var(--fill-color);\n",
              "    height: 32px;\n",
              "    padding: 0;\n",
              "    width: 32px;\n",
              "  }\n",
              "\n",
              "  .colab-df-quickchart:hover {\n",
              "    background-color: var(--hover-bg-color);\n",
              "    box-shadow: 0 1px 2px rgba(60, 64, 67, 0.3), 0 1px 3px 1px rgba(60, 64, 67, 0.15);\n",
              "    fill: var(--button-hover-fill-color);\n",
              "  }\n",
              "\n",
              "  .colab-df-quickchart-complete:disabled,\n",
              "  .colab-df-quickchart-complete:disabled:hover {\n",
              "    background-color: var(--disabled-bg-color);\n",
              "    fill: var(--disabled-fill-color);\n",
              "    box-shadow: none;\n",
              "  }\n",
              "\n",
              "  .colab-df-spinner {\n",
              "    border: 2px solid var(--fill-color);\n",
              "    border-color: transparent;\n",
              "    border-bottom-color: var(--fill-color);\n",
              "    animation:\n",
              "      spin 1s steps(1) infinite;\n",
              "  }\n",
              "\n",
              "  @keyframes spin {\n",
              "    0% {\n",
              "      border-color: transparent;\n",
              "      border-bottom-color: var(--fill-color);\n",
              "      border-left-color: var(--fill-color);\n",
              "    }\n",
              "    20% {\n",
              "      border-color: transparent;\n",
              "      border-left-color: var(--fill-color);\n",
              "      border-top-color: var(--fill-color);\n",
              "    }\n",
              "    30% {\n",
              "      border-color: transparent;\n",
              "      border-left-color: var(--fill-color);\n",
              "      border-top-color: var(--fill-color);\n",
              "      border-right-color: var(--fill-color);\n",
              "    }\n",
              "    40% {\n",
              "      border-color: transparent;\n",
              "      border-right-color: var(--fill-color);\n",
              "      border-top-color: var(--fill-color);\n",
              "    }\n",
              "    60% {\n",
              "      border-color: transparent;\n",
              "      border-right-color: var(--fill-color);\n",
              "    }\n",
              "    80% {\n",
              "      border-color: transparent;\n",
              "      border-right-color: var(--fill-color);\n",
              "      border-bottom-color: var(--fill-color);\n",
              "    }\n",
              "    90% {\n",
              "      border-color: transparent;\n",
              "      border-bottom-color: var(--fill-color);\n",
              "    }\n",
              "  }\n",
              "</style>\n",
              "\n",
              "      <script>\n",
              "        async function quickchart(key) {\n",
              "          const quickchartButtonEl =\n",
              "            document.querySelector('#' + key + ' button');\n",
              "          quickchartButtonEl.disabled = true;  // To prevent multiple clicks.\n",
              "          quickchartButtonEl.classList.add('colab-df-spinner');\n",
              "          try {\n",
              "            const charts = await google.colab.kernel.invokeFunction(\n",
              "                'suggestCharts', [key], {});\n",
              "          } catch (error) {\n",
              "            console.error('Error during call to suggestCharts:', error);\n",
              "          }\n",
              "          quickchartButtonEl.classList.remove('colab-df-spinner');\n",
              "          quickchartButtonEl.classList.add('colab-df-quickchart-complete');\n",
              "        }\n",
              "        (() => {\n",
              "          let quickchartButtonEl =\n",
              "            document.querySelector('#df-c30bd153-4e5c-4798-9a71-ed653e7f7781 button');\n",
              "          quickchartButtonEl.style.display =\n",
              "            google.colab.kernel.accessAllowed ? 'block' : 'none';\n",
              "        })();\n",
              "      </script>\n",
              "    </div>\n",
              "\n",
              "    </div>\n",
              "  </div>\n"
            ],
            "application/vnd.google.colaboratory.intrinsic+json": {
              "type": "dataframe",
              "summary": "{\n  \"name\": \"df[nums]\",\n  \"rows\": 8,\n  \"fields\": [\n    {\n      \"column\": \"views\",\n      \"properties\": {\n        \"dtype\": \"number\",\n        \"std\": 44089240.58860955,\n        \"min\": 4024.0,\n        \"max\": 125432237.0,\n        \"num_unique_values\": 8,\n        \"samples\": [\n          1007332.3348914448,\n          277904.5,\n          32518.0\n        ],\n        \"semantic_type\": \"\",\n        \"description\": \"\"\n      }\n    },\n    {\n      \"column\": \"likes\",\n      \"properties\": {\n        \"dtype\": \"number\",\n        \"std\": 1021625.6771823547,\n        \"min\": 0.0,\n        \"max\": 2912710.0,\n        \"num_unique_values\": 8,\n        \"samples\": [\n          25973.093025401315,\n          2822.0,\n          32518.0\n        ],\n        \"semantic_type\": \"\",\n        \"description\": \"\"\n      }\n    },\n    {\n      \"column\": \"dislikes\",\n      \"properties\": {\n        \"dtype\": \"number\",\n        \"std\": 543720.368863851,\n        \"min\": 0.0,\n        \"max\": 1545017.0,\n        \"num_unique_values\": 8,\n        \"samples\": [\n          1598.09191832216,\n          294.0,\n          32518.0\n        ],\n        \"semantic_type\": \"\",\n        \"description\": \"\"\n      }\n    },\n    {\n      \"column\": \"comment_count\",\n      \"properties\": {\n        \"dtype\": \"number\",\n        \"std\": 290275.67792905826,\n        \"min\": 0.0,\n        \"max\": 827755.0,\n        \"num_unique_values\": 8,\n        \"samples\": [\n          2562.143459007319,\n          306.5,\n          32518.0\n        ],\n        \"semantic_type\": \"\",\n        \"description\": \"\"\n      }\n    },\n    {\n      \"column\": \"No_tags\",\n      \"properties\": {\n        \"dtype\": \"number\",\n        \"std\": 11488.902955491507,\n        \"min\": 1.0,\n        \"max\": 32518.0,\n        \"num_unique_values\": 8,\n        \"samples\": [\n          18.857094532259058,\n          19.0,\n          32518.0\n        ],\n        \"semantic_type\": \"\",\n        \"description\": \"\"\n      }\n    },\n    {\n      \"column\": \"desc_len\",\n      \"properties\": {\n        \"dtype\": \"number\",\n        \"std\": 11152.721658998129,\n        \"min\": 3.0,\n        \"max\": 32518.0,\n        \"num_unique_values\": 8,\n        \"samples\": [\n          911.4035918568178,\n          673.0,\n          32518.0\n        ],\n        \"semantic_type\": \"\",\n        \"description\": \"\"\n      }\n    },\n    {\n      \"column\": \"len_title\",\n      \"properties\": {\n        \"dtype\": \"number\",\n        \"std\": 11475.76848769292,\n        \"min\": 5.0,\n        \"max\": 32518.0,\n        \"num_unique_values\": 8,\n        \"samples\": [\n          70.99886216864506,\n          75.0,\n          32518.0\n        ],\n        \"semantic_type\": \"\",\n        \"description\": \"\"\n      }\n    }\n  ]\n}"
            }
          },
          "metadata": {},
          "execution_count": 11
        }
      ]
    },
    {
      "cell_type": "markdown",
      "source": [
        "Terdapat perbedaan signifikan nilai mean dan median pada kolom Views, likes, dislikes, comment_count, desc_len menandakan distribusi skewed."
      ],
      "metadata": {
        "id": "-YfvJ9wK6Fli"
      }
    },
    {
      "cell_type": "code",
      "source": [
        "df[cats].describe()"
      ],
      "metadata": {
        "colab": {
          "base_uri": "https://localhost:8080/",
          "height": 175
        },
        "id": "CC1M7SXd6EQ-",
        "outputId": "592d88d2-9da3-445a-dac5-b55f01db16e7"
      },
      "execution_count": null,
      "outputs": [
        {
          "output_type": "execute_result",
          "data": {
            "text/plain": [
              "                                   title category_id channel_title    tags  \\\n",
              "count                              32518       32518         32518   32518   \n",
              "unique                             16402          17          1390   12452   \n",
              "top     Nandhini | Today @ 9 pm | Sun TV          24     VikatanTV  [none]   \n",
              "freq                                  15       14492           208    1027   \n",
              "\n",
              "       comments_disabled ratings_disabled video_error_or_removed  \\\n",
              "count              32518            32518                  32518   \n",
              "unique                 2                2                      2   \n",
              "top                False            False                  False   \n",
              "freq               31434            31829                  32509   \n",
              "\n",
              "                                              description  \n",
              "count                                               32518  \n",
              "unique                                              13979  \n",
              "top     Subscribers Link: http://bit.ly/2qb69dZ\\n\\nCon...  \n",
              "freq                                                  150  "
            ],
            "text/html": [
              "\n",
              "  <div id=\"df-88a65de4-54f1-44a9-8ff3-417c7d6c3092\" class=\"colab-df-container\">\n",
              "    <div>\n",
              "<style scoped>\n",
              "    .dataframe tbody tr th:only-of-type {\n",
              "        vertical-align: middle;\n",
              "    }\n",
              "\n",
              "    .dataframe tbody tr th {\n",
              "        vertical-align: top;\n",
              "    }\n",
              "\n",
              "    .dataframe thead th {\n",
              "        text-align: right;\n",
              "    }\n",
              "</style>\n",
              "<table border=\"1\" class=\"dataframe\">\n",
              "  <thead>\n",
              "    <tr style=\"text-align: right;\">\n",
              "      <th></th>\n",
              "      <th>title</th>\n",
              "      <th>category_id</th>\n",
              "      <th>channel_title</th>\n",
              "      <th>tags</th>\n",
              "      <th>comments_disabled</th>\n",
              "      <th>ratings_disabled</th>\n",
              "      <th>video_error_or_removed</th>\n",
              "      <th>description</th>\n",
              "    </tr>\n",
              "  </thead>\n",
              "  <tbody>\n",
              "    <tr>\n",
              "      <th>count</th>\n",
              "      <td>32518</td>\n",
              "      <td>32518</td>\n",
              "      <td>32518</td>\n",
              "      <td>32518</td>\n",
              "      <td>32518</td>\n",
              "      <td>32518</td>\n",
              "      <td>32518</td>\n",
              "      <td>32518</td>\n",
              "    </tr>\n",
              "    <tr>\n",
              "      <th>unique</th>\n",
              "      <td>16402</td>\n",
              "      <td>17</td>\n",
              "      <td>1390</td>\n",
              "      <td>12452</td>\n",
              "      <td>2</td>\n",
              "      <td>2</td>\n",
              "      <td>2</td>\n",
              "      <td>13979</td>\n",
              "    </tr>\n",
              "    <tr>\n",
              "      <th>top</th>\n",
              "      <td>Nandhini | Today @ 9 pm | Sun TV</td>\n",
              "      <td>24</td>\n",
              "      <td>VikatanTV</td>\n",
              "      <td>[none]</td>\n",
              "      <td>False</td>\n",
              "      <td>False</td>\n",
              "      <td>False</td>\n",
              "      <td>Subscribers Link: http://bit.ly/2qb69dZ\\n\\nCon...</td>\n",
              "    </tr>\n",
              "    <tr>\n",
              "      <th>freq</th>\n",
              "      <td>15</td>\n",
              "      <td>14492</td>\n",
              "      <td>208</td>\n",
              "      <td>1027</td>\n",
              "      <td>31434</td>\n",
              "      <td>31829</td>\n",
              "      <td>32509</td>\n",
              "      <td>150</td>\n",
              "    </tr>\n",
              "  </tbody>\n",
              "</table>\n",
              "</div>\n",
              "    <div class=\"colab-df-buttons\">\n",
              "\n",
              "  <div class=\"colab-df-container\">\n",
              "    <button class=\"colab-df-convert\" onclick=\"convertToInteractive('df-88a65de4-54f1-44a9-8ff3-417c7d6c3092')\"\n",
              "            title=\"Convert this dataframe to an interactive table.\"\n",
              "            style=\"display:none;\">\n",
              "\n",
              "  <svg xmlns=\"http://www.w3.org/2000/svg\" height=\"24px\" viewBox=\"0 -960 960 960\">\n",
              "    <path d=\"M120-120v-720h720v720H120Zm60-500h600v-160H180v160Zm220 220h160v-160H400v160Zm0 220h160v-160H400v160ZM180-400h160v-160H180v160Zm440 0h160v-160H620v160ZM180-180h160v-160H180v160Zm440 0h160v-160H620v160Z\"/>\n",
              "  </svg>\n",
              "    </button>\n",
              "\n",
              "  <style>\n",
              "    .colab-df-container {\n",
              "      display:flex;\n",
              "      gap: 12px;\n",
              "    }\n",
              "\n",
              "    .colab-df-convert {\n",
              "      background-color: #E8F0FE;\n",
              "      border: none;\n",
              "      border-radius: 50%;\n",
              "      cursor: pointer;\n",
              "      display: none;\n",
              "      fill: #1967D2;\n",
              "      height: 32px;\n",
              "      padding: 0 0 0 0;\n",
              "      width: 32px;\n",
              "    }\n",
              "\n",
              "    .colab-df-convert:hover {\n",
              "      background-color: #E2EBFA;\n",
              "      box-shadow: 0px 1px 2px rgba(60, 64, 67, 0.3), 0px 1px 3px 1px rgba(60, 64, 67, 0.15);\n",
              "      fill: #174EA6;\n",
              "    }\n",
              "\n",
              "    .colab-df-buttons div {\n",
              "      margin-bottom: 4px;\n",
              "    }\n",
              "\n",
              "    [theme=dark] .colab-df-convert {\n",
              "      background-color: #3B4455;\n",
              "      fill: #D2E3FC;\n",
              "    }\n",
              "\n",
              "    [theme=dark] .colab-df-convert:hover {\n",
              "      background-color: #434B5C;\n",
              "      box-shadow: 0px 1px 3px 1px rgba(0, 0, 0, 0.15);\n",
              "      filter: drop-shadow(0px 1px 2px rgba(0, 0, 0, 0.3));\n",
              "      fill: #FFFFFF;\n",
              "    }\n",
              "  </style>\n",
              "\n",
              "    <script>\n",
              "      const buttonEl =\n",
              "        document.querySelector('#df-88a65de4-54f1-44a9-8ff3-417c7d6c3092 button.colab-df-convert');\n",
              "      buttonEl.style.display =\n",
              "        google.colab.kernel.accessAllowed ? 'block' : 'none';\n",
              "\n",
              "      async function convertToInteractive(key) {\n",
              "        const element = document.querySelector('#df-88a65de4-54f1-44a9-8ff3-417c7d6c3092');\n",
              "        const dataTable =\n",
              "          await google.colab.kernel.invokeFunction('convertToInteractive',\n",
              "                                                    [key], {});\n",
              "        if (!dataTable) return;\n",
              "\n",
              "        const docLinkHtml = 'Like what you see? Visit the ' +\n",
              "          '<a target=\"_blank\" href=https://colab.research.google.com/notebooks/data_table.ipynb>data table notebook</a>'\n",
              "          + ' to learn more about interactive tables.';\n",
              "        element.innerHTML = '';\n",
              "        dataTable['output_type'] = 'display_data';\n",
              "        await google.colab.output.renderOutput(dataTable, element);\n",
              "        const docLink = document.createElement('div');\n",
              "        docLink.innerHTML = docLinkHtml;\n",
              "        element.appendChild(docLink);\n",
              "      }\n",
              "    </script>\n",
              "  </div>\n",
              "\n",
              "\n",
              "    <div id=\"df-b188976f-ed1d-4a9e-9112-195b5c5daed2\">\n",
              "      <button class=\"colab-df-quickchart\" onclick=\"quickchart('df-b188976f-ed1d-4a9e-9112-195b5c5daed2')\"\n",
              "                title=\"Suggest charts\"\n",
              "                style=\"display:none;\">\n",
              "\n",
              "<svg xmlns=\"http://www.w3.org/2000/svg\" height=\"24px\"viewBox=\"0 0 24 24\"\n",
              "     width=\"24px\">\n",
              "    <g>\n",
              "        <path d=\"M19 3H5c-1.1 0-2 .9-2 2v14c0 1.1.9 2 2 2h14c1.1 0 2-.9 2-2V5c0-1.1-.9-2-2-2zM9 17H7v-7h2v7zm4 0h-2V7h2v10zm4 0h-2v-4h2v4z\"/>\n",
              "    </g>\n",
              "</svg>\n",
              "      </button>\n",
              "\n",
              "<style>\n",
              "  .colab-df-quickchart {\n",
              "      --bg-color: #E8F0FE;\n",
              "      --fill-color: #1967D2;\n",
              "      --hover-bg-color: #E2EBFA;\n",
              "      --hover-fill-color: #174EA6;\n",
              "      --disabled-fill-color: #AAA;\n",
              "      --disabled-bg-color: #DDD;\n",
              "  }\n",
              "\n",
              "  [theme=dark] .colab-df-quickchart {\n",
              "      --bg-color: #3B4455;\n",
              "      --fill-color: #D2E3FC;\n",
              "      --hover-bg-color: #434B5C;\n",
              "      --hover-fill-color: #FFFFFF;\n",
              "      --disabled-bg-color: #3B4455;\n",
              "      --disabled-fill-color: #666;\n",
              "  }\n",
              "\n",
              "  .colab-df-quickchart {\n",
              "    background-color: var(--bg-color);\n",
              "    border: none;\n",
              "    border-radius: 50%;\n",
              "    cursor: pointer;\n",
              "    display: none;\n",
              "    fill: var(--fill-color);\n",
              "    height: 32px;\n",
              "    padding: 0;\n",
              "    width: 32px;\n",
              "  }\n",
              "\n",
              "  .colab-df-quickchart:hover {\n",
              "    background-color: var(--hover-bg-color);\n",
              "    box-shadow: 0 1px 2px rgba(60, 64, 67, 0.3), 0 1px 3px 1px rgba(60, 64, 67, 0.15);\n",
              "    fill: var(--button-hover-fill-color);\n",
              "  }\n",
              "\n",
              "  .colab-df-quickchart-complete:disabled,\n",
              "  .colab-df-quickchart-complete:disabled:hover {\n",
              "    background-color: var(--disabled-bg-color);\n",
              "    fill: var(--disabled-fill-color);\n",
              "    box-shadow: none;\n",
              "  }\n",
              "\n",
              "  .colab-df-spinner {\n",
              "    border: 2px solid var(--fill-color);\n",
              "    border-color: transparent;\n",
              "    border-bottom-color: var(--fill-color);\n",
              "    animation:\n",
              "      spin 1s steps(1) infinite;\n",
              "  }\n",
              "\n",
              "  @keyframes spin {\n",
              "    0% {\n",
              "      border-color: transparent;\n",
              "      border-bottom-color: var(--fill-color);\n",
              "      border-left-color: var(--fill-color);\n",
              "    }\n",
              "    20% {\n",
              "      border-color: transparent;\n",
              "      border-left-color: var(--fill-color);\n",
              "      border-top-color: var(--fill-color);\n",
              "    }\n",
              "    30% {\n",
              "      border-color: transparent;\n",
              "      border-left-color: var(--fill-color);\n",
              "      border-top-color: var(--fill-color);\n",
              "      border-right-color: var(--fill-color);\n",
              "    }\n",
              "    40% {\n",
              "      border-color: transparent;\n",
              "      border-right-color: var(--fill-color);\n",
              "      border-top-color: var(--fill-color);\n",
              "    }\n",
              "    60% {\n",
              "      border-color: transparent;\n",
              "      border-right-color: var(--fill-color);\n",
              "    }\n",
              "    80% {\n",
              "      border-color: transparent;\n",
              "      border-right-color: var(--fill-color);\n",
              "      border-bottom-color: var(--fill-color);\n",
              "    }\n",
              "    90% {\n",
              "      border-color: transparent;\n",
              "      border-bottom-color: var(--fill-color);\n",
              "    }\n",
              "  }\n",
              "</style>\n",
              "\n",
              "      <script>\n",
              "        async function quickchart(key) {\n",
              "          const quickchartButtonEl =\n",
              "            document.querySelector('#' + key + ' button');\n",
              "          quickchartButtonEl.disabled = true;  // To prevent multiple clicks.\n",
              "          quickchartButtonEl.classList.add('colab-df-spinner');\n",
              "          try {\n",
              "            const charts = await google.colab.kernel.invokeFunction(\n",
              "                'suggestCharts', [key], {});\n",
              "          } catch (error) {\n",
              "            console.error('Error during call to suggestCharts:', error);\n",
              "          }\n",
              "          quickchartButtonEl.classList.remove('colab-df-spinner');\n",
              "          quickchartButtonEl.classList.add('colab-df-quickchart-complete');\n",
              "        }\n",
              "        (() => {\n",
              "          let quickchartButtonEl =\n",
              "            document.querySelector('#df-b188976f-ed1d-4a9e-9112-195b5c5daed2 button');\n",
              "          quickchartButtonEl.style.display =\n",
              "            google.colab.kernel.accessAllowed ? 'block' : 'none';\n",
              "        })();\n",
              "      </script>\n",
              "    </div>\n",
              "\n",
              "    </div>\n",
              "  </div>\n"
            ],
            "application/vnd.google.colaboratory.intrinsic+json": {
              "type": "dataframe",
              "summary": "{\n  \"name\": \"df[cats]\",\n  \"rows\": 4,\n  \"fields\": [\n    {\n      \"column\": \"title\",\n      \"properties\": {\n        \"dtype\": \"string\",\n        \"num_unique_values\": 4,\n        \"samples\": [\n          16402,\n          \"15\",\n          \"32518\"\n        ],\n        \"semantic_type\": \"\",\n        \"description\": \"\"\n      }\n    },\n    {\n      \"column\": \"category_id\",\n      \"properties\": {\n        \"dtype\": \"string\",\n        \"num_unique_values\": 4,\n        \"samples\": [\n          17,\n          \"14492\",\n          \"32518\"\n        ],\n        \"semantic_type\": \"\",\n        \"description\": \"\"\n      }\n    },\n    {\n      \"column\": \"channel_title\",\n      \"properties\": {\n        \"dtype\": \"string\",\n        \"num_unique_values\": 4,\n        \"samples\": [\n          1390,\n          \"208\",\n          \"32518\"\n        ],\n        \"semantic_type\": \"\",\n        \"description\": \"\"\n      }\n    },\n    {\n      \"column\": \"tags\",\n      \"properties\": {\n        \"dtype\": \"string\",\n        \"num_unique_values\": 4,\n        \"samples\": [\n          12452,\n          \"1027\",\n          \"32518\"\n        ],\n        \"semantic_type\": \"\",\n        \"description\": \"\"\n      }\n    },\n    {\n      \"column\": \"comments_disabled\",\n      \"properties\": {\n        \"dtype\": \"string\",\n        \"num_unique_values\": 4,\n        \"samples\": [\n          2,\n          \"31434\",\n          \"32518\"\n        ],\n        \"semantic_type\": \"\",\n        \"description\": \"\"\n      }\n    },\n    {\n      \"column\": \"ratings_disabled\",\n      \"properties\": {\n        \"dtype\": \"string\",\n        \"num_unique_values\": 4,\n        \"samples\": [\n          2,\n          \"31829\",\n          \"32518\"\n        ],\n        \"semantic_type\": \"\",\n        \"description\": \"\"\n      }\n    },\n    {\n      \"column\": \"video_error_or_removed\",\n      \"properties\": {\n        \"dtype\": \"string\",\n        \"num_unique_values\": 4,\n        \"samples\": [\n          2,\n          \"32509\",\n          \"32518\"\n        ],\n        \"semantic_type\": \"\",\n        \"description\": \"\"\n      }\n    },\n    {\n      \"column\": \"description\",\n      \"properties\": {\n        \"dtype\": \"string\",\n        \"num_unique_values\": 4,\n        \"samples\": [\n          13979,\n          \"150\",\n          \"32518\"\n        ],\n        \"semantic_type\": \"\",\n        \"description\": \"\"\n      }\n    }\n  ]\n}"
            }
          },
          "metadata": {},
          "execution_count": 12
        }
      ]
    },
    {
      "cell_type": "markdown",
      "source": [
        "Judul paling banyak muncul pada dataset dengan Freq 15 yaitu Nandhini | Today @ 9 pm | Sun TV"
      ],
      "metadata": {
        "id": "3ETwg6Vt6ews"
      }
    },
    {
      "cell_type": "markdown",
      "source": [
        "#Univariate Analisis"
      ],
      "metadata": {
        "id": "4aVTdwwy7Kty"
      }
    },
    {
      "cell_type": "code",
      "source": [
        "#Diagram Boxplot\n",
        "# Ambil hanya kolom numerik dari DataFrame\n",
        "numerical_df = df.select_dtypes(include=['int64'])\n",
        "\n",
        "# Buat boxplot untuk semua kolom numerik\n",
        "numerical_df.plot(kind='box', subplots=True, layout=(3, 3), figsize=(15, 10), sharex=False, sharey=False)\n",
        "\n",
        "plt.suptitle('Boxplots of Numerical Columns')\n",
        "plt.tight_layout()\n",
        "plt.show()"
      ],
      "metadata": {
        "colab": {
          "base_uri": "https://localhost:8080/",
          "height": 1000
        },
        "id": "hIkA80IQ6w57",
        "outputId": "945a0fcb-9864-4e03-b95f-5377300c0d1b"
      },
      "execution_count": null,
      "outputs": [
        {
          "output_type": "display_data",
          "data": {
            "text/plain": [
              "<Figure size 1500x1000 with 9 Axes>"
            ],
            "image/png": "[encoded data removed]"
          },
          "metadata": {}
        }
      ]
    },
    {
      "cell_type": "markdown",
      "source": [
        "Insight : Secara umum, hampir semua boxplot menunjukkan banyak outlier (titik-titik di atas whisker), menandakan bahwa sebagian besar data berada di rentang rendah, tapi ada nilai-nilai ekstrem yang sangat tinggi. Hanyak kolom len_title dan no_tags yang cenderung normal dengan sedikit outliers."
      ],
      "metadata": {
        "id": "dmI6wTIE7Bt2"
      }
    },
    {
      "cell_type": "code",
      "source": [
        "#Diagram Kde plot\n",
        "# Ambil hanya kolom numerik\n",
        "numerical_cols = df.select_dtypes(include=['int64', 'float64']).columns\n",
        "\n",
        "# Jumlah subplot\n",
        "n_cols = 2  # 2 kolom\n",
        "n_rows = int(np.ceil(len(numerical_cols) / n_cols))\n",
        "\n",
        "# Buat subplots\n",
        "fig, axes = plt.subplots(n_rows, n_cols, figsize=(14, 4 * n_rows))\n",
        "axes = axes.flatten()  # Supaya bisa diakses pakai indeks 1D\n",
        "\n",
        "# Loop setiap kolom numerik\n",
        "for i, col in enumerate(numerical_cols):\n",
        "    sns.kdeplot(data=df, x=col, fill=True, ax=axes[i])\n",
        "    axes[i].set_title(f'Distribution of {col}')\n",
        "\n",
        "# Jika subplot lebih banyak dari jumlah kolom, hapus sisa axis\n",
        "for j in range(i + 1, len(axes)):\n",
        "    fig.delaxes(axes[j])\n",
        "\n",
        "plt.tight_layout()\n",
        "plt.show()\n"
      ],
      "metadata": {
        "colab": {
          "base_uri": "https://localhost:8080/",
          "height": 1000
        },
        "id": "OQIhSOjL7Fs3",
        "outputId": "7165b0bf-d41e-4937-9ef3-5d39321ad43c"
      },
      "execution_count": null,
      "outputs": [
        {
          "output_type": "display_data",
          "data": {
            "text/plain": [
              "<Figure size 1400x1600 with 7 Axes>"
            ],
            "image/png": "[encoded data removed]"
          },
          "metadata": {}
        }
      ]
    },
    {
      "cell_type": "markdown",
      "source": [
        "Insight :  distribusi masing-kolom terlihat didominasi right-skewed, Hanya No_tags dan len_title yang mendekati normal"
      ],
      "metadata": {
        "id": "P6eB2hqB7vfN"
      }
    },
    {
      "cell_type": "markdown",
      "source": [
        "#Multivariate Analysis"
      ],
      "metadata": {
        "id": "pJkplbcf73-7"
      }
    },
    {
      "cell_type": "code",
      "source": [
        "#Membuat Heatmap\n",
        "\n",
        "# Hitung korelasi menggunakan metode Spearman\n",
        "corr_spearman = df[nums].corr(method='spearman')\n",
        "\n",
        "# Buat heatmap\n",
        "plt.figure(figsize=(10, 8))\n",
        "sns.heatmap(corr_spearman, annot=True, cmap='coolwarm', center=0)\n",
        "plt.title('Spearman Correlation Heatmap')\n",
        "plt.tight_layout()\n",
        "plt.show()"
      ],
      "metadata": {
        "colab": {
          "base_uri": "https://localhost:8080/",
          "height": 807
        },
        "id": "wiY_UZCU7zhs",
        "outputId": "8a947a8b-b813-4541-8db3-9cb7c370a46a"
      },
      "execution_count": null,
      "outputs": [
        {
          "output_type": "display_data",
          "data": {
            "text/plain": [
              "<Figure size 1000x800 with 2 Axes>"
            ],
            "image/png": "[encoded data removed]"
          },
          "metadata": {}
        }
      ]
    },
    {
      "cell_type": "markdown",
      "source": [
        "Insight :\n",
        "\n",
        "Hubungan fitur dengan target (views)<br>\n",
        "views punya hubungan sangat kuat dan positif dengan likes, dislikes, dan comment_count. Artinya, ketiga fitur ini bisa menjadi prediktor yang baik dalam model regresi. Untuk fitur desc_len, No_tags, dan len_title berkorelasi rendah terhadap nilai views  menandakan ada sedikit pengaruh antara jumlah tags dan descripsi di video dengan jumlah views.\n",
        "\n",
        "Hubungan antar fitur<br>\n",
        "korelasi yg tinggi diatas 0,7 yaitu antara fitur likes, dislikes, dan comment_count mungkin bisa dihapus dan diplih hanya satu atau dibuat fitur tambahan dari 3 kolom tersebut. Untuk hubungan antar fitur yang lain cenderung rendah."
      ],
      "metadata": {
        "id": "G0HvwCbJ8O1g"
      }
    },
    {
      "cell_type": "markdown",
      "source": [
        "#Handling Outliers"
      ],
      "metadata": {
        "id": "L7O4Ct5Y9Dy1"
      }
    },
    {
      "cell_type": "code",
      "source": [
        "#Handling Outliers dengan metode IQR\n",
        "import pandas as pd\n",
        "\n",
        "# Misalnya df adalah DataFrame kamu\n",
        "\n",
        "def remove_outliers_iqr(df, columns):\n",
        "    for col in columns:\n",
        "        Q1 = df[col].quantile(0.25)\n",
        "        Q3 = df[col].quantile(0.75)\n",
        "        IQR = Q3 - Q1\n",
        "        lower_bound = Q1 - 1.5 * IQR\n",
        "        upper_bound = Q3 + 1.5 * IQR\n",
        "\n",
        "        # Filter out outliers\n",
        "        df = df[(df[col] >= lower_bound) & (df[col] <= upper_bound)]\n",
        "\n",
        "    return df\n",
        "#Kolom yang inging dibersihkan\n",
        "columns_to_clean = ['views', 'likes', 'dislikes', 'comment_count', 'desc_len']\n",
        "# Bersihkan outlier\n",
        "df_clean = remove_outliers_iqr(df, columns_to_clean)\n"
      ],
      "metadata": {
        "id": "32WUP9n4-uMR"
      },
      "execution_count": null,
      "outputs": []
    },
    {
      "cell_type": "code",
      "source": [
        "df_clean.info()"
      ],
      "metadata": {
        "colab": {
          "base_uri": "https://localhost:8080/"
        },
        "id": "gfaddwoA_hK8",
        "outputId": "aca1fe46-0313-4cc8-f98b-88213eba5af4"
      },
      "execution_count": null,
      "outputs": [
        {
          "output_type": "stream",
          "name": "stdout",
          "text": [
            "<class 'pandas.core.frame.DataFrame'>\n",
            "Index: 19994 entries, 1 to 36737\n",
            "Data columns (total 18 columns):\n",
            " #   Column                  Non-Null Count  Dtype         \n",
            "---  ------                  --------------  -----         \n",
            " 0   trending_date           19994 non-null  datetime64[ns]\n",
            " 1   title                   19994 non-null  object        \n",
            " 2   channel_title           19994 non-null  object        \n",
            " 3   category_id             19994 non-null  object        \n",
            " 4   publish_time            19994 non-null  object        \n",
            " 5   tags                    19994 non-null  object        \n",
            " 6   views                   19994 non-null  int64         \n",
            " 7   likes                   19994 non-null  int64         \n",
            " 8   dislikes                19994 non-null  int64         \n",
            " 9   comment_count           19994 non-null  int64         \n",
            " 10  comments_disabled       19994 non-null  bool          \n",
            " 11  ratings_disabled        19994 non-null  bool          \n",
            " 12  video_error_or_removed  19994 non-null  bool          \n",
            " 13  description             19994 non-null  object        \n",
            " 14  No_tags                 19994 non-null  int64         \n",
            " 15  desc_len                19994 non-null  int64         \n",
            " 16  len_title               19994 non-null  int64         \n",
            " 17  publish_date            19994 non-null  datetime64[ns]\n",
            "dtypes: bool(3), datetime64[ns](2), int64(7), object(6)\n",
            "memory usage: 2.5+ MB\n"
          ]
        }
      ]
    },
    {
      "cell_type": "markdown",
      "source": [
        "#Feature Selection"
      ],
      "metadata": {
        "id": "wxbycjbTA3tR"
      }
    },
    {
      "cell_type": "markdown",
      "source": [
        "Untuk fitur selection digunakan Anova untuk melihat hubungan linear fitu-fitur dengan kolom target yaitu views yang berupa numerik.\n",
        "\n",
        "- Semakin tinggi F_score yang dihasilkan semakin membuktikan pengaruh terhadap target kolom.\n",
        "- Semakin kecil p-value (<0,05), semakin kuat bukti bahwa fitur tersebut memang berpengaruh signifikan terhadap target. Nilai p-value menyatakan peluang bahwa hubungan antara fitur dan target terjadi karena kebetulan semata (null hypothesis)."
      ],
      "metadata": {
        "id": "LE-hWjQ-WQ1o"
      }
    },
    {
      "cell_type": "code",
      "source": [
        "from sklearn.feature_selection import SelectKBest, f_regression\n",
        "\n",
        "# kolom nums_update\n",
        "#X = df[['likes', 'No_tags', 'desc_len', 'len_title', 'comments_disabled', 'ratings_disabled', 'video_error_or_removed']].copy()\n",
        "X = df_clean[['likes', 'No_tags', 'desc_len', 'len_title', 'comments_disabled', 'ratings_disabled', 'video_error_or_removed']].copy()\n",
        "\n",
        "# Pastikan semua diubah ke numerik\n",
        "X = X.astype(int)\n",
        "\n",
        "# Target kolom numerik\n",
        "#y = df['views']\n",
        "y = df_clean['views']\n",
        "\n",
        "# ANOVA F-test\n",
        "selector = SelectKBest(score_func=f_regression, k='all')\n",
        "selector.fit(X, y)\n",
        "\n",
        "# Lihat hasil\n",
        "scores = pd.DataFrame({\n",
        "    'Feature': X.columns,\n",
        "    'F_Score': selector.scores_,\n",
        "    'p_Value': selector.pvalues_\n",
        "}).sort_values(by='F_Score', ascending=False)\n",
        "\n",
        "print(scores)"
      ],
      "metadata": {
        "id": "T6PmxyCfA6RY",
        "colab": {
          "base_uri": "https://localhost:8080/"
        },
        "outputId": "c1c31921-d811-4578-d640-3231e27b3c70"
      },
      "execution_count": null,
      "outputs": [
        {
          "output_type": "stream",
          "name": "stdout",
          "text": [
            "                  Feature      F_Score       p_Value\n",
            "0                   likes  4840.599507  0.000000e+00\n",
            "2                desc_len    46.588308  9.009094e-12\n",
            "1                 No_tags    36.771242  1.352204e-09\n",
            "3               len_title     1.923850  1.654483e-01\n",
            "5        ratings_disabled     0.637877  4.244901e-01\n",
            "4       comments_disabled     0.220285  6.388278e-01\n",
            "6  video_error_or_removed     0.000000  1.000000e+00\n"
          ]
        }
      ]
    },
    {
      "cell_type": "markdown",
      "source": [
        "Berdasarkan hasil analisi anova didapatkan fitur dengan nilai F_score paling tinggi yaitu likes dan paling rendah yaitu video_error_or_removed. Dari analisis tersebut fitur video_error_or_removed bisa dihapus karena memilki nilai f_score yang rendah dan nilai P-value>0.05 membuktikan kurang berhubungan dengan fitur target."
      ],
      "metadata": {
        "id": "WDxaxnzKWdO2"
      }
    },
    {
      "cell_type": "markdown",
      "source": [
        "##Kesimpulan saran fitur yang dipertahankan :\n",
        "\n",
        "- Views (kolom target)\n",
        "- likes\n",
        "- desc_len\n",
        "- No_tags\n",
        "- len_title\n",
        "- ratings_disabled\n",
        "- comments_disabled\n",
        "- publish_time (fitur tambahan, untuk ekstrak jam upload)\n",
        "- publish_date (fitur tambahan, untuk ekstrak hari biasa atau weakend)"
      ],
      "metadata": {
        "id": "g4HrOVseWfER"
      }
    },
    {
      "cell_type": "code",
      "source": [
        "#Cek isi fitur kategorikal\n",
        "for col in cats:\n",
        "  print(f'''value count kolom {col}:''')\n",
        "#  print(df[col].value_counts())\n",
        "  print(df_clean[col].value_counts())\n",
        "  print('----'*10, '\\n')"
      ],
      "metadata": {
        "colab": {
          "base_uri": "https://localhost:8080/"
        },
        "id": "hKmGmPcJW4sT",
        "outputId": "d7f94714-baef-4da4-91d0-5b186f4848e5"
      },
      "execution_count": null,
      "outputs": [
        {
          "output_type": "stream",
          "name": "stdout",
          "text": [
            "value count kolom title:\n",
            "title\n",
            "Nandhini | Today @ 9 pm | Sun TV                                                                 15\n",
            "Kasthooriman || General Promo || Mon to Sat at 8:30 PM || Asianet                                 9\n",
            "Karuthamuthu || General Promo || Mon to Sat at 8 PM || Asianet                                    7\n",
            "10 AWESOME LIFE HACKS!                                                                            7\n",
            "Mogalirekulu | Today @ 1 30 PM | Gemini TV                                                        7\n",
            "                                                                                                 ..\n",
            "అలా కాదు తల్లి..  గిడ్డి ఈశ్వరికి వైఎస్ జగన్‌ ఫోన్| ys jagan phone call to giddi eswari           1\n",
            "Faisla Gujarat Ka: BJP will get nothing less than 150 seat in Gujarat Poll, says Paresh Rawal     1\n",
            "Deivamagal Episode 1400, 28/11/17                                                                 1\n",
            "Fun Bucket JUNIORS | Episode 36 | Kids Funny Videos | Comedy Web Series | TeluguOne               1\n",
            "Telangana | 7th February 2018 | ETV 360 1 PM News Headlines                                       1\n",
            "Name: count, Length: 12120, dtype: int64\n",
            "---------------------------------------- \n",
            "\n",
            "value count kolom category_id:\n",
            "category_id\n",
            "24    9831\n",
            "25    3717\n",
            "22    1653\n",
            "10    1181\n",
            "23    1046\n",
            "27     842\n",
            "1      711\n",
            "26     430\n",
            "17     303\n",
            "29      98\n",
            "43      65\n",
            "28      54\n",
            "2       45\n",
            "19       7\n",
            "20       7\n",
            "30       3\n",
            "15       1\n",
            "Name: count, dtype: int64\n",
            "---------------------------------------- \n",
            "\n",
            "value count kolom channel_title:\n",
            "channel_title\n",
            "Study IQ education    198\n",
            "etvteluguindia        191\n",
            "V6 News Telugu        184\n",
            "Saregama TVShows      178\n",
            "Vijay Television      177\n",
            "                     ... \n",
            "Relique Records         1\n",
            "gallinews               1\n",
            "Apple                   1\n",
            "Vijay Antony            1\n",
            "Frogs Lehren            1\n",
            "Name: count, Length: 1225, dtype: int64\n",
            "---------------------------------------- \n",
            "\n",
            "value count kolom tags:\n",
            "tags\n",
            "[none]                                                                                                                                                                                                                                                                                                                                                                                                                                                                                                                              819\n",
            "etv daily serials|\"etv daily soaps\"|\"etv fictions\"|\"bharyamani\"|\"etv chandramukhi\"|\"etv manasu mamata\"|\"swathi chinukulu\"|\"sikharam\"|\"anthapuram\"|\"adade aadaram\"|\"cash\"|\"jabardasth\"|\"extra jabardasth\"|\"nagababu\"|\"latest telugu serials\"|\"Krish\"|\"savithri\"|\"manasu mamatha\"|\"naperu meenakshi\"|\"gokulamlo seetha\"|\"antahpuram\"|\"seetamma vakitlo\"|\"champion\"|\"dhee jodi\"                                                                                                                                                        166\n",
            "etv Plus|\"etv comedy show\"|\"3 Idiots\"|\"anchor ravi\"|\"Chinnadana Neekosam\"|\"express raja\"|\"hungama\"|\"Kick\"|\"Nandini Vs Nandini\"|\"Pataas\"|\"jabardasth\"|\"extra jabardasth\"|\"naga babu\"|\"roja\"|\"anchor anasuya\"|\"pove pora\"|\"comedy short films\"|\"yadamma raju\"|\"chalaki chanti\"|\"sudigali sudeer\"|\"anchor suma\"|\"comedy show\"|\"anchor sreemukhi\"|\"comedy skits in telugu\"|\"telugu comedy tracks\"|\"racha ravi\"|\"allare allari\"|\"sardaga kasepu\"|\"ejunction\"|\"anchor pradeep\"|\"pataas punches\"|\"anchor vishnupriya\"|\"getup srinu\"        161\n",
            "ETV|\"ETV Telugu\"|\"ETV NewsVideo\"|\"National News Video\"|\"ETV World\"|\"ETV Andhravani\"|\"AndhravaniVideo\"|\"ETV Talkies\"|\"Etv2\"|\"Etv Andhra News\"|\"Andhravani\"|\"Etv2 Ghantaravam\"|\"Etv2 India\"|\"Telugu News\"|\"Etv AP\"|\"AP News\"|\"AP\"|\"Etv Telugu\"|\"Etv News Live Video\"|\"Etv Sakhi\"|\"Etv Sukhibhava\"|\"Health Magazine\"|\"Health Show\"|\"Etv Margadarsi\"|\"ETV Aaha\"|\"etv2india\"|\"Latest News Videos\"|\"Mundhadugu\"|\"Lakshyam\"|\"ETV Telangana\"|\"Telangana News\"|\"Telangana Latest News\"|\"Telangana Updates\"|\"ETV Live\"|\"Live TV\"              135\n",
            "tarang|\"tarang tv\"|\"tarang tv online\"|\"tarang tv serial\"|\"odia tarang tv serial\"|\"tarang tv show\"|\"taranga channel\"|\"tarang tv channel\"|\"odia tarang channel\"|\"odia serial\"|\"odia serial video\"|\"odia channel\"|\"odia tv channel\"|\"odia tv show\"|\"odia tv\"                                                                                                                                                                                                                                                                           111\n",
            "                                                                                                                                                                                                                                                                                                                                                                                                                                                                                                                                   ... \n",
            "asianet|\"malayalam channel\"|\"tv show\"|\"malayalam serial\"|\"entertainment\"|\"AFA\"|\"film awards\"|\"filmawards\"|\"asianetawards\"|\"asianet awards\"|\"mohanlal\"|\"asianet film awards\"|\"celebrities\"|\"actors\"|\"actress\"|\"show\"|\"event\"|\"film awards event\"|\"ujala asianet film awards\"|\"film\"|\"awards\"|\"asianet fim awards full\"|\"afa hotstar\"|\"film awards 2018\"|\"asianet film awards 2018\"|\"AFA 2018\"|\"20th asianet film awards\"|\"20 asianet film awards\"|\"Dulquer Salmaan\"|\"actor dulquer salman\"|\"dulquer salman actor\"                      1\n",
            "zeetv serials|\"zeetvtelugu\"|\"zeetvtelugu serials\"|\"zeetvtelugu shows\"|\"telugu tv serials in zee telugu\"|\"telugu zee telugu\"|\"kalyana vaibhogam\"|\"kalyana vaibhogame serial\"|\"kalyanama vaibhogam telugu serial\"|\"zee telugu kalyana vaibhogame serial\"|\"zee telugu kalyana vaibhavam live\"|\"zee telugu kalyana vaibhogam episode\"|\"zee telugu kalyana serial\"|\"zee telugu kalyana vaibhogam daily serial\"|\"zee telugu kalyana vaibhogam serial episode\"                                                                               1\n",
            "Traffic Ramasamy Movie Trailer|\"SA Chandrasekhar\"|\"Rohini\"|\"Prakash Raj\"|\"Trend Music\"|\"traffic ramasamy film\"|\"traffic ramasamy trailer\"|\"Traffic Ramasamy\"|\"Traffic Ramasamy tamil movie\"|\"traffic ramaswamy latest movie\"|\"traffic ramaswamy movie songs\"|\"traffic ramaswamy video songs\"|\"traffic ramaswamy audio songs\"|\"SA Chandrasekhar movies\"|\"Rohini movies\"|\"Prakash Raj movies\"|\"2018 latest tamil movie teaser\"|\"upcoming tamil movie teaser\"|\"vijay sethupathi\"|\"vijay antony\"|\"seeman\"|\"kasthuri\"|\"kushboo\"            1\n",
            "Bithiri Sathi|\"Sathi Australia Tour\"|\"Sathi In Australia\"|\"Australia\"|\"Sathi Going To Australia\"|\"Sathi From Australia\"|\"Bithiri Sathi In Australia\"|\"teenmaar bithiri sathi\"|\"teenmaar news\"|\"v6 teenmaar news\"|\"teenmaar sathi\"|\"v6 teenmaar\"|\"teenmaar\"|\"telangana news\"|\"breaking news\"|\"sathi videos\"|\"Teenmaar online News\"|\"teenmaar latest video\"|\"teenmaar videos\"|\"v6 news\"                                                                                                                                                 1\n",
            "TV Shows|\"anita mishra\"|\"hindi serial\"|\"bhabiji ghar par hain\"|\"comedy serial\"|\"zee5\"|\"Online Tv Channel\"|\"inspector happu\"|\"indian tv show\"|\"tillu\"|\"pelu chaurasia\"|\"gulfaam kali\"|\"serial\"|\"baba kamukhanand ji\"|\"#onlinetvchannel\"|\"zee hindi serial\"|\"mishras\"|\"and tv\"|\"watch online\"|\"angoori\"|\"hindi tv serial\"|\"hindi\"|\"zee tv\"|\"bhabhi ji ghar pe hain\"|\"#tvshows\"|\"manmohan tiwari\"|\"bhabhiji ghar pe hai serial full episode\"|\"indian\"|\"&tv\"|\"gulfam kali\"|\"zeetv serials\"|\"hindi serials\"|\"vinita\"|\"vibhuti mishra\"      1\n",
            "Name: count, Length: 8754, dtype: int64\n",
            "---------------------------------------- \n",
            "\n",
            "value count kolom comments_disabled:\n",
            "comments_disabled\n",
            "False    19108\n",
            "True       886\n",
            "Name: count, dtype: int64\n",
            "---------------------------------------- \n",
            "\n",
            "value count kolom ratings_disabled:\n",
            "ratings_disabled\n",
            "False    19349\n",
            "True       645\n",
            "Name: count, dtype: int64\n",
            "---------------------------------------- \n",
            "\n",
            "value count kolom video_error_or_removed:\n",
            "video_error_or_removed\n",
            "False    19994\n",
            "Name: count, dtype: int64\n",
            "---------------------------------------- \n",
            "\n",
            "value count kolom description:\n",
            "description\n",
            "☛ For latest updates on ETV Channels - http://www.etv.co.in   \\n☛ Subscribe for more latest Episodes - https://goo.gl/nVzmp5\\n☛ Like us on - http://www.fb.com/etvplusindia \\n☛ Follow us on - https://twitter.com/etvplusindia                                                                                                                                                                                                                                                                                                                                                                                                                                                                                                                                                                                                                                                                                                                                                                                                                                                                                                                                                                                                                                                                                                                                                                                                                                                                                                                                                                                                                                                                                                                           103\n",
            "Watch Full Episode Here :- \\n\\nWatch Flowers TV Live On Your Mobile For Free!!! \\nDownload HomeMazala -  https://goo.gl/iGVJw2\\n\\nJoin us on \\nFacebook- https://www.facebook.com/flowersonair \\nTwitter     https://www.twitter.com/flowersonair\\nGoogle Plus -https://plus.google.com/+FlowerstvIndia                                                                                                                                                                                                                                                                                                                                                                                                                                                                                                                                                                                                                                                                                                                                                                                                                                                                                                                                                                                                                                                                                                                                                                                                                                                                                                                                                                                                                                                    99\n",
            "http://www.ozee.com/shows/muddha-mandaram - Click here to watch this full episode of Muddha Mandaram.\\nEnjoy the world of entertainment with your favourite TV Shows, Movies, Music and more at www.OZEE.com or download the OZEE app now.\\n\\nUseful Links:\\nConnect with OZEE:\\n* Visit us at - http://www.ozee.com\\n* Like us on Facebook - https://www.facebook.com/OzeeApp\\n* Follow us on Twitter - https://twitter.com/OzeeApp\\nTo download the OZEE App on your Android/iOS mobile:\\n* Google Play – https://play.google.com/store/apps/details?id=com.graymatrix.did&hl=en\\n* iTunes – https://itunes.apple.com/in/app/ozee-entertainment-now.-free/id743691886\\n\\nThe show will explore mindset and class conflict of two different personalities 'Akhilandeshwari' and 'Parvathi'.Kalavari Kodalu fame Haritha is playing the role of Akhilandeshwari and as Zee Telugu is famous for bringing new faces on small screen, is repeating it by launching a new girl Tanuja as the leading protagonist 'Parvathi' in Mudda Mandaram.Also Tollywood Star Hero King Nagarjuna promoted this show by accepting Muddha Mandaram plant from Parvathi which she bought from her village and he further gifted it to his better half 'Amala' and expected this chain to continue by inviting people to gift a mandaram plant to their beloved ones.                                                                                                                                                                                                                                                                                                                                                                                                        71\n",
            "----------------------------------------------------------------------------------------------\\n☛ Download ETV Android App: https://goo.gl/aub2D9\\n----------------------------------------------------------------------------------------------\\nFor Latest                                                                                                                                                                                                                                                                                                                                                                                                                                                                                                                                                                                                                                                                                                                                                                                                                                                                                                                                                                                                                                                                                                                                                                                                                                                                                                                                                                                                                                                                                              70\n",
            "http://www.ozee.com/shows/kundali-bhagya - Click here to watch this full episode of Kundali Bhagya.\\nEnjoy the world of entertainment with your favourite TV Shows, Movies, Music and more at www.OZEE.com or download the OZEE app now.\\n\\nUseful Links:\\nConnect with OZEE:\\n* Visit us at - http://www.ozee.com\\n* Like us on Facebook - https://www.facebook.com/OzeeApp\\n* Follow us on Twitter - https://twitter.com/OzeeApp\\nTo download the OZEE App on your Android/iOS mobile:\\n* Google Play – https://play.google.com/store/apps/details?id=com.graymatrix.did&hl=en\\n* iTunes – https://itunes.apple.com/in/app/ozee-entertainment-now.-free/id743691886\\n\\nKundali Bhagya is an intriguing story about two young girls - Preeta and Shrishti. They discover the existence of their mother - Sarla and their sister Pragya, after the death of their father. Amidst this journey of mixed emotions the girl's cross paths with two rich brothers, Rahul and Karan who are friends with Abhi. The story will then introduce romance, drama and dispute in the lives of Preeta, Shrishti, Rahul and Karan.                                                                                                                                                                                                                                                                                                                                                                                                                                                                                                                                                                                                                                      66\n",
            "                                                                                                                                                                                                                                                                                                                                                                                                                                                                                                                                                                                                                                                                                                                                                                                                                                                                                                                                                                                                                                                                                                                                                                                                                                                                                                                                                                                                                                                                                                                                                                                                                                                                                                                                                         ... \n",
            "To watch the full episode of 'Ishq Mein Marjawan' anytime, Download the Voot app now or Visithttps://www.voot.com/shows/ishq-mein-marjawan/1/538829/aarohi-fears-for-deep-s-life/608610She had the perfect life, the perfect man but little did she know that she was walking into the perfect trap. What happens when the man you love turns out to be a genius manipulator? Watch how Arohi's life is twisted and turned into a nightmare that just doesn't end.                                                                                                                                                                                                                                                                                                                                                                                                                                                                                                                                                                                                                                                                                                                                                                                                                                                                                                                                                                                                                                                                                                                                                                                                                                                                                          1\n",
            "To watch full Vlog visit: https://www.youtube.com/channel/UCCM_PUfGHUpT7_5VZjVlmlQFollow us on :Instagram: https://www.instagram.com/dude_sslyFacebook: https://www.facebook.com/dudeseriouslyTwitter: https://www.twitter.com/dde_sslyFor Business Inquiry Say HI on +917990988068                                                                                                                                                                                                                                                                                                                                                                                                                                                                                                                                                                                                                                                                                                                                                                                                                                                                                                                                                                                                                                                                                                                                                                                                                                                                                                                                                                                                                                                                         1\n",
            "Watch Fun Bucket Juniors Epi #51 Kids Telugu Comedy Videos / Funny Videos 2018 directed by Sai Teja Produced by Ravi Shankar Kantamneni. #KidsComedy #StandupComedy #TeluguOneFun Bucket Juniors Best Of 51 - https://youtu.be/pMHIf_IwmKoFun Bucket Juniors Best of Ammu Vs Babai -https://youtu.be/X1tn8oAcoEkFun Bucket Juniors Best Of 50 - https://youtu.be/Q7EM0eteuxkFun Bucket Juniors Episode 50 - https://youtu.be/iEcxmlu6WesFun Bucket Juniors Episode 49 - https://youtu.be/dMW0Pm80ypcWeb Series : Fun Bucket Juniors (Telugu)Cast : Baby Jaswica, Baby Snehitha, Master Gullu, Master Ikshwak, Master Hemanth, Baby Pragnya, Baby Reshma, Trishool, Deek Sunny, Rajesh VulliCamera : Mallesh BandaruEditing : Syam VadavalliAssistant D.O.P : GopiProducer : Ravi Shankar KantamneniAsst.Direcor : NagendraScript & Direction : Sai Tejae-Mail : funbucketjuniorsupdates@gmail.com                                                                                                                                                                                                                                                                                                                                                                                                                                                                                                                                                                                                                                                                                                                                                                                                                                                           1\n",
            "8:00 AM - CURRENT AFFAIRS SHOW 13th June | RRB ALP/Group D, SBI Clerk, IBPS, SSC, KVS, UP PoliceDownload WiFiStudy Mobile App: - https://play.google.com/store/apps/details?id=com.wifistudy.onlinetestअब पढ़ाई के लिए हो जाओ तैयार, WiFiStudy ने कर दी है Live Classes की बौछारWiFiStudy Live Classes Schedule (Mon-Fri)Morning Shows6 AM - Current Affairs MCQ's - Ram Sir7 AM - Editorial Analysis - Ram Sir8 AM - Current Affairs - Bhunesh Sir8:30 AM - Vocab Express - Bhunesh SirRailway10 AM - Reasoning - Hitesh Sir11 AM - Maths - Sahil Sir12 PM - GS - Vivek SirBank1 PM - English - Sanjeev Sir2 PM - Maths - Sahil Sir3 PM - Reasoning - Hitesh SirSSC4 PM - Maths - Naman Sir5 PM - Reasoning - Hitesh Sir6 PM - English - Harsh Sir7 PM - GK - Bhunesh SirRajasthan GK8 PM - History/Culture by Praveen Sir9 PM - Geography by Rajendra SirTechnical Classes9 AM - Civil - Nikhil Sir10 PM - ME - Neeraj SirMarathon Class11 PM - UP Police by Vivek Sir⇒ Buy Video Courses or Online Test Series. Visit: https://www.wifistudy.com or Call/ WhatsApp: 70233-33675 ⇒⇒⇒ Download Mobile Apps: -1. WiFiStudy: https://play.google.com/store/apps/details?id=com.wifistudy.onlinetest2. Vocab24: https://play.google.com/store/apps/details?id=com.englishvocabulary3. GK24: https://play.google.com/store/apps/details?id=com.daily.currentaffairs⇒⇒⇒⇒⇒ Follow us: -♥ Facebook: - https://www.fb.com/wifistudy♥ Google+: - https://plus.google.com/+Wifistudy♥ Twitter: - https://twitter.com/WiFiStudy♥ Linkedin: - https://www.linkedin.com/company/wifistudy♥ Telegram: - https://t.me/WiFiStudy♥ Pinterest: - https://in.pinterest.com/WiFiStudy♥ Website: - https://www.wifistudy.com♥ Youtube: - https://www.youtube.com/WiFiStudy      1\n",
            "Nandini is a supernatural drama series. The story is about a rich influential family haunted by a snake's curse. While a good spirit helps the family from the snake by its supernatural powers.Watch Nandini - June 12th, 2018, Full Episode on Sun NXT from http://bit.ly/nandiniSunTVTo Watch Sun TV Programs Live on Sun NXT Click: http://bit.ly/SUNTVLIVEWatch 4000+ Movies, 40+ Live TV Channels, TV Shows, Music Videos, Comedy and exclusives on Sun NXT anytime anywhere.Download Sun NXT Now to Enjoy Unlimited entertainment,Android: http://bit.ly/SunNxtAdroidiOS: India - http://bit.ly/sunNXTiOS Rest of the World - http://bit.ly/ussunnxtor Visit https://www.sunnxt.com Follow Us On Our Social Media Links Facebook : https://www.facebook.com/SunTVTwitter : https://twitter.com/SunTV                                                                                                                                                                                                                                                                                                                                                                                                                                                                                                                                                                                                                                                                                                                                                                                                                                                                                                                                                 1\n",
            "Name: count, Length: 9675, dtype: int64\n",
            "---------------------------------------- \n",
            "\n"
          ]
        }
      ]
    },
    {
      "cell_type": "markdown",
      "source": [
        "#Feature Engineering"
      ],
      "metadata": {
        "id": "eUkvVgPJxIbQ"
      }
    },
    {
      "cell_type": "code",
      "source": [
        "# Feature Tambahan\n",
        "\n",
        "# Gabungkan publish_date dan publish_time secara benar\n",
        "df_clean['publish_datetime'] = pd.to_datetime(df_clean['publish_date'].astype(str) + ' ' + df_clean['publish_time'].astype(str))\n",
        "\n",
        "# 1. Fitur publish_hour (jam upload)\n",
        "df_clean['publish_hour'] = df_clean['publish_datetime'].dt.hour\n",
        "\n",
        "# 2. Fitur is_weekend (apakah Sabtu/Minggu)\n",
        "df_clean['is_weekend'] = df_clean['publish_datetime'].dt.dayofweek >= 5  # Sabtu = 5, Minggu = 6\n",
        "\n",
        "\n",
        "# Tampilkan 10 baris pertama dari fitur-fitur baru\n",
        "print(df_clean[['publish_hour', 'is_weekend']].head(10))\n"
      ],
      "metadata": {
        "colab": {
          "base_uri": "https://localhost:8080/"
        },
        "id": "pZOdcra9mm0f",
        "outputId": "fcfbbebf-db1e-433a-fab3-b1451c3b1447"
      },
      "execution_count": null,
      "outputs": [
        {
          "output_type": "stream",
          "name": "stdout",
          "text": [
            "    publish_hour  is_weekend\n",
            "1              5       False\n",
            "2             15        True\n",
            "4              1       False\n",
            "8              4       False\n",
            "12             9       False\n",
            "13            19        True\n",
            "15             6       False\n",
            "23            16        True\n",
            "25            15        True\n",
            "26             4        True\n"
          ]
        }
      ]
    },
    {
      "cell_type": "code",
      "source": [
        "df_clean.info()"
      ],
      "metadata": {
        "colab": {
          "base_uri": "https://localhost:8080/"
        },
        "id": "MMFxvti-xPKe",
        "outputId": "243e99da-2cdf-4339-8cce-46321b98cdf8"
      },
      "execution_count": null,
      "outputs": [
        {
          "output_type": "stream",
          "name": "stdout",
          "text": [
            "<class 'pandas.core.frame.DataFrame'>\n",
            "Index: 19994 entries, 1 to 36737\n",
            "Data columns (total 21 columns):\n",
            " #   Column                  Non-Null Count  Dtype         \n",
            "---  ------                  --------------  -----         \n",
            " 0   trending_date           19994 non-null  datetime64[ns]\n",
            " 1   title                   19994 non-null  object        \n",
            " 2   channel_title           19994 non-null  object        \n",
            " 3   category_id             19994 non-null  object        \n",
            " 4   publish_time            19994 non-null  object        \n",
            " 5   tags                    19994 non-null  object        \n",
            " 6   views                   19994 non-null  int64         \n",
            " 7   likes                   19994 non-null  int64         \n",
            " 8   dislikes                19994 non-null  int64         \n",
            " 9   comment_count           19994 non-null  int64         \n",
            " 10  comments_disabled       19994 non-null  bool          \n",
            " 11  ratings_disabled        19994 non-null  bool          \n",
            " 12  video_error_or_removed  19994 non-null  bool          \n",
            " 13  description             19994 non-null  object        \n",
            " 14  No_tags                 19994 non-null  int64         \n",
            " 15  desc_len                19994 non-null  int64         \n",
            " 16  len_title               19994 non-null  int64         \n",
            " 17  publish_date            19994 non-null  datetime64[ns]\n",
            " 18  publish_datetime        19994 non-null  datetime64[ns]\n",
            " 19  publish_hour            19994 non-null  int32         \n",
            " 20  is_weekend              19994 non-null  bool          \n",
            "dtypes: bool(4), datetime64[ns](3), int32(1), int64(7), object(6)\n",
            "memory usage: 2.7+ MB\n"
          ]
        }
      ]
    },
    {
      "cell_type": "markdown",
      "source": [
        "Berikut adalah alasan penting mengapa setiap fitur tambahan di buat sangat relevan untuk meningkatkan performa prediksi views:\n",
        "\n",
        "1. 📅 publish_hour – Jam Upload Video\n",
        "Alasan:\n",
        "* Waktu publikasi sangat memengaruhi jumlah penonton awal.\n",
        "\n",
        "* Misalnya, video yang dirilis pada jam sibuk (seperti sore hari atau malam hari) cenderung memiliki lebih banyak viewers aktif dibandingkan video yang tayang dini hari.\n",
        "\n",
        "* Bisa menangkap pola perilaku pengguna YouTube dalam sehari.\n",
        "\n",
        "2. 📆 is_weekend – Akhir Pekan atau Hari Biasa\n",
        "Alasan:\n",
        "\n",
        "* Pengguna biasanya memiliki waktu lebih banyak untuk menonton video saat akhir pekan.\n",
        "\n",
        "* Video yang diunggah pada Sabtu/Minggu bisa memiliki peluang lebih tinggi untuk mendapatkan views.\n",
        "\n",
        "* Membantu membedakan dinamika penayangan berdasarkan pola mingguan.\n",
        "\n",
        "#Kesimpulan:\n",
        "\n",
        "Fitur-fitur ini membantu:\n",
        "\n",
        "* Menangkap pola perilaku pengguna berdasarkan waktu,\n",
        "\n",
        "* Memberikan sinyal tambahan yang tidak langsung terlihat hanya dari variabel dasar.\n",
        "\n",
        "* Jika model hanya melihat title, tags, atau category saja tanpa mempertimbangkan kapan dan bagaimana video dirilis, maka ia akan kehilangan informasi penting tentang perilaku pengguna YouTube."
      ],
      "metadata": {
        "id": "x53S4iu8n9Jn"
      }
    },
    {
      "cell_type": "markdown",
      "source": [
        "#Drop kolom yang tidak diperlukan"
      ],
      "metadata": {
        "id": "RCnP1Cp1zaTm"
      }
    },
    {
      "cell_type": "code",
      "source": [
        "#drop kolom\n",
        "df_clean.drop(columns=['publish_time', 'publish_date', 'trending_date', 'publish_datetime','tags','title',\n",
        "                       'channel_title', 'video_error_or_removed', 'category_id', 'description' ], inplace=True)"
      ],
      "metadata": {
        "id": "0CCzqC9WzsEh"
      },
      "execution_count": null,
      "outputs": []
    },
    {
      "cell_type": "code",
      "source": [
        "df_clean = df_clean.astype(int)"
      ],
      "metadata": {
        "id": "whhQFQcN6O5b"
      },
      "execution_count": null,
      "outputs": []
    },
    {
      "cell_type": "code",
      "source": [
        "#Hasil akhir fitur\n",
        "df_clean.info()"
      ],
      "metadata": {
        "colab": {
          "base_uri": "https://localhost:8080/"
        },
        "id": "REwxtPK-0OMB",
        "outputId": "354fb292-90e5-4f60-9a02-c0b80ff46e70"
      },
      "execution_count": null,
      "outputs": [
        {
          "output_type": "stream",
          "name": "stdout",
          "text": [
            "<class 'pandas.core.frame.DataFrame'>\n",
            "Index: 19994 entries, 1 to 36737\n",
            "Data columns (total 11 columns):\n",
            " #   Column             Non-Null Count  Dtype\n",
            "---  ------             --------------  -----\n",
            " 0   views              19994 non-null  int64\n",
            " 1   likes              19994 non-null  int64\n",
            " 2   dislikes           19994 non-null  int64\n",
            " 3   comment_count      19994 non-null  int64\n",
            " 4   comments_disabled  19994 non-null  int64\n",
            " 5   ratings_disabled   19994 non-null  int64\n",
            " 6   No_tags            19994 non-null  int64\n",
            " 7   desc_len           19994 non-null  int64\n",
            " 8   len_title          19994 non-null  int64\n",
            " 9   publish_hour       19994 non-null  int64\n",
            " 10  is_weekend         19994 non-null  int64\n",
            "dtypes: int64(11)\n",
            "memory usage: 1.8 MB\n"
          ]
        }
      ]
    },
    {
      "cell_type": "markdown",
      "source": [
        "#Scalling Data"
      ],
      "metadata": {
        "id": "JmteS1La3OzS"
      }
    },
    {
      "cell_type": "code",
      "source": [
        "# Import library untuk scaling data\n",
        "from sklearn.preprocessing import RobustScaler\n",
        "\n",
        "# Inisialisasi objek RobustScaler\n",
        "scaler = RobustScaler()\n",
        "\n",
        "# Fit dan transform data pada dataframe\n",
        "scaled_data = scaler.fit_transform(df_clean)\n",
        "\n",
        "# Membuat dataframe baru dengan data yang telah discaling\n",
        "data_olah = pd.DataFrame(scaled_data, columns=df_clean.columns)\n",
        "\n",
        "# Tampilkan data\n",
        "data_olah.head(5)"
      ],
      "metadata": {
        "colab": {
          "base_uri": "https://localhost:8080/",
          "height": 206
        },
        "id": "RuX7SIY35JBz",
        "outputId": "657c6582-d34a-4385-beaa-8d96bf045216"
      },
      "execution_count": null,
      "outputs": [
        {
          "output_type": "execute_result",
          "data": {
            "text/plain": [
              "      views     likes  dislikes  comment_count  comments_disabled  \\\n",
              "0  1.826121 -0.168763  3.192469      -0.454887                1.0   \n",
              "1  1.334230  0.348884  0.426778       0.105263                0.0   \n",
              "2  1.291981 -0.267343  0.635983      -0.206767                0.0   \n",
              "3 -0.172901 -0.255984 -0.368201      -0.368421                0.0   \n",
              "4 -0.012506 -0.176471 -0.368201      -0.454887                1.0   \n",
              "\n",
              "   ratings_disabled   No_tags  desc_len  len_title  publish_hour  is_weekend  \n",
              "0               0.0  0.142857  2.437870  -0.575758        -0.750         0.0  \n",
              "1               0.0 -0.214286 -0.150888  -0.575758         0.500         1.0  \n",
              "2               0.0 -0.428571  0.250000   0.333333        -1.250         0.0  \n",
              "3               0.0  0.285714 -0.110947   0.606061        -0.875         0.0  \n",
              "4               0.0  0.214286  0.405325   0.242424        -0.250         0.0  "
            ],
            "text/html": [
              "\n",
              "  <div id=\"df-eddfc243-9a04-4d43-b8bd-62cf431ac10b\" class=\"colab-df-container\">\n",
              "    <div>\n",
              "<style scoped>\n",
              "    .dataframe tbody tr th:only-of-type {\n",
              "        vertical-align: middle;\n",
              "    }\n",
              "\n",
              "    .dataframe tbody tr th {\n",
              "        vertical-align: top;\n",
              "    }\n",
              "\n",
              "    .dataframe thead th {\n",
              "        text-align: right;\n",
              "    }\n",
              "</style>\n",
              "<table border=\"1\" class=\"dataframe\">\n",
              "  <thead>\n",
              "    <tr style=\"text-align: right;\">\n",
              "      <th></th>\n",
              "      <th>views</th>\n",
              "      <th>likes</th>\n",
              "      <th>dislikes</th>\n",
              "      <th>comment_count</th>\n",
              "      <th>comments_disabled</th>\n",
              "      <th>ratings_disabled</th>\n",
              "      <th>No_tags</th>\n",
              "      <th>desc_len</th>\n",
              "      <th>len_title</th>\n",
              "      <th>publish_hour</th>\n",
              "      <th>is_weekend</th>\n",
              "    </tr>\n",
              "  </thead>\n",
              "  <tbody>\n",
              "    <tr>\n",
              "      <th>0</th>\n",
              "      <td>1.826121</td>\n",
              "      <td>-0.168763</td>\n",
              "      <td>3.192469</td>\n",
              "      <td>-0.454887</td>\n",
              "      <td>1.0</td>\n",
              "      <td>0.0</td>\n",
              "      <td>0.142857</td>\n",
              "      <td>2.437870</td>\n",
              "      <td>-0.575758</td>\n",
              "      <td>-0.750</td>\n",
              "      <td>0.0</td>\n",
              "    </tr>\n",
              "    <tr>\n",
              "      <th>1</th>\n",
              "      <td>1.334230</td>\n",
              "      <td>0.348884</td>\n",
              "      <td>0.426778</td>\n",
              "      <td>0.105263</td>\n",
              "      <td>0.0</td>\n",
              "      <td>0.0</td>\n",
              "      <td>-0.214286</td>\n",
              "      <td>-0.150888</td>\n",
              "      <td>-0.575758</td>\n",
              "      <td>0.500</td>\n",
              "      <td>1.0</td>\n",
              "    </tr>\n",
              "    <tr>\n",
              "      <th>2</th>\n",
              "      <td>1.291981</td>\n",
              "      <td>-0.267343</td>\n",
              "      <td>0.635983</td>\n",
              "      <td>-0.206767</td>\n",
              "      <td>0.0</td>\n",
              "      <td>0.0</td>\n",
              "      <td>-0.428571</td>\n",
              "      <td>0.250000</td>\n",
              "      <td>0.333333</td>\n",
              "      <td>-1.250</td>\n",
              "      <td>0.0</td>\n",
              "    </tr>\n",
              "    <tr>\n",
              "      <th>3</th>\n",
              "      <td>-0.172901</td>\n",
              "      <td>-0.255984</td>\n",
              "      <td>-0.368201</td>\n",
              "      <td>-0.368421</td>\n",
              "      <td>0.0</td>\n",
              "      <td>0.0</td>\n",
              "      <td>0.285714</td>\n",
              "      <td>-0.110947</td>\n",
              "      <td>0.606061</td>\n",
              "      <td>-0.875</td>\n",
              "      <td>0.0</td>\n",
              "    </tr>\n",
              "    <tr>\n",
              "      <th>4</th>\n",
              "      <td>-0.012506</td>\n",
              "      <td>-0.176471</td>\n",
              "      <td>-0.368201</td>\n",
              "      <td>-0.454887</td>\n",
              "      <td>1.0</td>\n",
              "      <td>0.0</td>\n",
              "      <td>0.214286</td>\n",
              "      <td>0.405325</td>\n",
              "      <td>0.242424</td>\n",
              "      <td>-0.250</td>\n",
              "      <td>0.0</td>\n",
              "    </tr>\n",
              "  </tbody>\n",
              "</table>\n",
              "</div>\n",
              "    <div class=\"colab-df-buttons\">\n",
              "\n",
              "  <div class=\"colab-df-container\">\n",
              "    <button class=\"colab-df-convert\" onclick=\"convertToInteractive('df-eddfc243-9a04-4d43-b8bd-62cf431ac10b')\"\n",
              "            title=\"Convert this dataframe to an interactive table.\"\n",
              "            style=\"display:none;\">\n",
              "\n",
              "  <svg xmlns=\"http://www.w3.org/2000/svg\" height=\"24px\" viewBox=\"0 -960 960 960\">\n",
              "    <path d=\"M120-120v-720h720v720H120Zm60-500h600v-160H180v160Zm220 220h160v-160H400v160Zm0 220h160v-160H400v160ZM180-400h160v-160H180v160Zm440 0h160v-160H620v160ZM180-180h160v-160H180v160Zm440 0h160v-160H620v160Z\"/>\n",
              "  </svg>\n",
              "    </button>\n",
              "\n",
              "  <style>\n",
              "    .colab-df-container {\n",
              "      display:flex;\n",
              "      gap: 12px;\n",
              "    }\n",
              "\n",
              "    .colab-df-convert {\n",
              "      background-color: #E8F0FE;\n",
              "      border: none;\n",
              "      border-radius: 50%;\n",
              "      cursor: pointer;\n",
              "      display: none;\n",
              "      fill: #1967D2;\n",
              "      height: 32px;\n",
              "      padding: 0 0 0 0;\n",
              "      width: 32px;\n",
              "    }\n",
              "\n",
              "    .colab-df-convert:hover {\n",
              "      background-color: #E2EBFA;\n",
              "      box-shadow: 0px 1px 2px rgba(60, 64, 67, 0.3), 0px 1px 3px 1px rgba(60, 64, 67, 0.15);\n",
              "      fill: #174EA6;\n",
              "    }\n",
              "\n",
              "    .colab-df-buttons div {\n",
              "      margin-bottom: 4px;\n",
              "    }\n",
              "\n",
              "    [theme=dark] .colab-df-convert {\n",
              "      background-color: #3B4455;\n",
              "      fill: #D2E3FC;\n",
              "    }\n",
              "\n",
              "    [theme=dark] .colab-df-convert:hover {\n",
              "      background-color: #434B5C;\n",
              "      box-shadow: 0px 1px 3px 1px rgba(0, 0, 0, 0.15);\n",
              "      filter: drop-shadow(0px 1px 2px rgba(0, 0, 0, 0.3));\n",
              "      fill: #FFFFFF;\n",
              "    }\n",
              "  </style>\n",
              "\n",
              "    <script>\n",
              "      const buttonEl =\n",
              "        document.querySelector('#df-eddfc243-9a04-4d43-b8bd-62cf431ac10b button.colab-df-convert');\n",
              "      buttonEl.style.display =\n",
              "        google.colab.kernel.accessAllowed ? 'block' : 'none';\n",
              "\n",
              "      async function convertToInteractive(key) {\n",
              "        const element = document.querySelector('#df-eddfc243-9a04-4d43-b8bd-62cf431ac10b');\n",
              "        const dataTable =\n",
              "          await google.colab.kernel.invokeFunction('convertToInteractive',\n",
              "                                                    [key], {});\n",
              "        if (!dataTable) return;\n",
              "\n",
              "        const docLinkHtml = 'Like what you see? Visit the ' +\n",
              "          '<a target=\"_blank\" href=https://colab.research.google.com/notebooks/data_table.ipynb>data table notebook</a>'\n",
              "          + ' to learn more about interactive tables.';\n",
              "        element.innerHTML = '';\n",
              "        dataTable['output_type'] = 'display_data';\n",
              "        await google.colab.output.renderOutput(dataTable, element);\n",
              "        const docLink = document.createElement('div');\n",
              "        docLink.innerHTML = docLinkHtml;\n",
              "        element.appendChild(docLink);\n",
              "      }\n",
              "    </script>\n",
              "  </div>\n",
              "\n",
              "\n",
              "    <div id=\"df-9f9a477f-fdbc-42f1-8bb0-b7e2cc81e9da\">\n",
              "      <button class=\"colab-df-quickchart\" onclick=\"quickchart('df-9f9a477f-fdbc-42f1-8bb0-b7e2cc81e9da')\"\n",
              "                title=\"Suggest charts\"\n",
              "                style=\"display:none;\">\n",
              "\n",
              "<svg xmlns=\"http://www.w3.org/2000/svg\" height=\"24px\"viewBox=\"0 0 24 24\"\n",
              "     width=\"24px\">\n",
              "    <g>\n",
              "        <path d=\"M19 3H5c-1.1 0-2 .9-2 2v14c0 1.1.9 2 2 2h14c1.1 0 2-.9 2-2V5c0-1.1-.9-2-2-2zM9 17H7v-7h2v7zm4 0h-2V7h2v10zm4 0h-2v-4h2v4z\"/>\n",
              "    </g>\n",
              "</svg>\n",
              "      </button>\n",
              "\n",
              "<style>\n",
              "  .colab-df-quickchart {\n",
              "      --bg-color: #E8F0FE;\n",
              "      --fill-color: #1967D2;\n",
              "      --hover-bg-color: #E2EBFA;\n",
              "      --hover-fill-color: #174EA6;\n",
              "      --disabled-fill-color: #AAA;\n",
              "      --disabled-bg-color: #DDD;\n",
              "  }\n",
              "\n",
              "  [theme=dark] .colab-df-quickchart {\n",
              "      --bg-color: #3B4455;\n",
              "      --fill-color: #D2E3FC;\n",
              "      --hover-bg-color: #434B5C;\n",
              "      --hover-fill-color: #FFFFFF;\n",
              "      --disabled-bg-color: #3B4455;\n",
              "      --disabled-fill-color: #666;\n",
              "  }\n",
              "\n",
              "  .colab-df-quickchart {\n",
              "    background-color: var(--bg-color);\n",
              "    border: none;\n",
              "    border-radius: 50%;\n",
              "    cursor: pointer;\n",
              "    display: none;\n",
              "    fill: var(--fill-color);\n",
              "    height: 32px;\n",
              "    padding: 0;\n",
              "    width: 32px;\n",
              "  }\n",
              "\n",
              "  .colab-df-quickchart:hover {\n",
              "    background-color: var(--hover-bg-color);\n",
              "    box-shadow: 0 1px 2px rgba(60, 64, 67, 0.3), 0 1px 3px 1px rgba(60, 64, 67, 0.15);\n",
              "    fill: var(--button-hover-fill-color);\n",
              "  }\n",
              "\n",
              "  .colab-df-quickchart-complete:disabled,\n",
              "  .colab-df-quickchart-complete:disabled:hover {\n",
              "    background-color: var(--disabled-bg-color);\n",
              "    fill: var(--disabled-fill-color);\n",
              "    box-shadow: none;\n",
              "  }\n",
              "\n",
              "  .colab-df-spinner {\n",
              "    border: 2px solid var(--fill-color);\n",
              "    border-color: transparent;\n",
              "    border-bottom-color: var(--fill-color);\n",
              "    animation:\n",
              "      spin 1s steps(1) infinite;\n",
              "  }\n",
              "\n",
              "  @keyframes spin {\n",
              "    0% {\n",
              "      border-color: transparent;\n",
              "      border-bottom-color: var(--fill-color);\n",
              "      border-left-color: var(--fill-color);\n",
              "    }\n",
              "    20% {\n",
              "      border-color: transparent;\n",
              "      border-left-color: var(--fill-color);\n",
              "      border-top-color: var(--fill-color);\n",
              "    }\n",
              "    30% {\n",
              "      border-color: transparent;\n",
              "      border-left-color: var(--fill-color);\n",
              "      border-top-color: var(--fill-color);\n",
              "      border-right-color: var(--fill-color);\n",
              "    }\n",
              "    40% {\n",
              "      border-color: transparent;\n",
              "      border-right-color: var(--fill-color);\n",
              "      border-top-color: var(--fill-color);\n",
              "    }\n",
              "    60% {\n",
              "      border-color: transparent;\n",
              "      border-right-color: var(--fill-color);\n",
              "    }\n",
              "    80% {\n",
              "      border-color: transparent;\n",
              "      border-right-color: var(--fill-color);\n",
              "      border-bottom-color: var(--fill-color);\n",
              "    }\n",
              "    90% {\n",
              "      border-color: transparent;\n",
              "      border-bottom-color: var(--fill-color);\n",
              "    }\n",
              "  }\n",
              "</style>\n",
              "\n",
              "      <script>\n",
              "        async function quickchart(key) {\n",
              "          const quickchartButtonEl =\n",
              "            document.querySelector('#' + key + ' button');\n",
              "          quickchartButtonEl.disabled = true;  // To prevent multiple clicks.\n",
              "          quickchartButtonEl.classList.add('colab-df-spinner');\n",
              "          try {\n",
              "            const charts = await google.colab.kernel.invokeFunction(\n",
              "                'suggestCharts', [key], {});\n",
              "          } catch (error) {\n",
              "            console.error('Error during call to suggestCharts:', error);\n",
              "          }\n",
              "          quickchartButtonEl.classList.remove('colab-df-spinner');\n",
              "          quickchartButtonEl.classList.add('colab-df-quickchart-complete');\n",
              "        }\n",
              "        (() => {\n",
              "          let quickchartButtonEl =\n",
              "            document.querySelector('#df-9f9a477f-fdbc-42f1-8bb0-b7e2cc81e9da button');\n",
              "          quickchartButtonEl.style.display =\n",
              "            google.colab.kernel.accessAllowed ? 'block' : 'none';\n",
              "        })();\n",
              "      </script>\n",
              "    </div>\n",
              "\n",
              "    </div>\n",
              "  </div>\n"
            ],
            "application/vnd.google.colaboratory.intrinsic+json": {
              "type": "dataframe",
              "variable_name": "data_olah",
              "summary": "{\n  \"name\": \"data_olah\",\n  \"rows\": 19994,\n  \"fields\": [\n    {\n      \"column\": \"views\",\n      \"properties\": {\n        \"dtype\": \"number\",\n        \"std\": 1.0023026592242292,\n        \"min\": -0.6566830964883109,\n        \"max\": 6.384233302055246,\n        \"num_unique_values\": 19528,\n        \"samples\": [\n          2.125403243742441,\n          -0.07771934023710626,\n          -0.4282782154121188\n        ],\n        \"semantic_type\": \"\",\n        \"description\": \"\"\n      }\n    },\n    {\n      \"column\": \"likes\",\n      \"properties\": {\n        \"dtype\": \"number\",\n        \"std\": 1.1286638670655835,\n        \"min\": -0.46693711967545637,\n        \"max\": 6.344827586206897,\n        \"num_unique_values\": 6349,\n        \"samples\": [\n          -0.14482758620689656,\n          0.7886409736308316,\n          3.5135902636916834\n        ],\n        \"semantic_type\": \"\",\n        \"description\": \"\"\n      }\n    },\n    {\n      \"column\": \"dislikes\",\n      \"properties\": {\n        \"dtype\": \"number\",\n        \"std\": 0.8776543987102863,\n        \"min\": -0.5899581589958159,\n        \"max\": 3.401673640167364,\n        \"num_unique_values\": 950,\n        \"samples\": [\n          0.8828451882845189,\n          2.702928870292887,\n          1.6945606694560669\n        ],\n        \"semantic_type\": \"\",\n        \"description\": \"\"\n      }\n    },\n    {\n      \"column\": \"comment_count\",\n      \"properties\": {\n        \"dtype\": \"number\",\n        \"std\": 0.7941636545124666,\n        \"min\": -0.4548872180451128,\n        \"max\": 2.917293233082707,\n        \"num_unique_values\": 893,\n        \"samples\": [\n          1.6466165413533835,\n          0.8872180451127819,\n          2.3721804511278197\n        ],\n        \"semantic_type\": \"\",\n        \"description\": \"\"\n      }\n    },\n    {\n      \"column\": \"comments_disabled\",\n      \"properties\": {\n        \"dtype\": \"number\",\n        \"std\": 0.20579539398831598,\n        \"min\": 0.0,\n        \"max\": 1.0,\n        \"num_unique_values\": 2,\n        \"samples\": [\n          0.0,\n          1.0\n        ],\n        \"semantic_type\": \"\",\n        \"description\": \"\"\n      }\n    },\n    {\n      \"column\": \"ratings_disabled\",\n      \"properties\": {\n        \"dtype\": \"number\",\n        \"std\": 0.1766933857874404,\n        \"min\": 0.0,\n        \"max\": 1.0,\n        \"num_unique_values\": 2,\n        \"samples\": [\n          1.0,\n          0.0\n        ],\n        \"semantic_type\": \"\",\n        \"description\": \"\"\n      }\n    },\n    {\n      \"column\": \"No_tags\",\n      \"properties\": {\n        \"dtype\": \"number\",\n        \"std\": 0.6905557246666111,\n        \"min\": -1.1428571428571428,\n        \"max\": 3.9285714285714284,\n        \"num_unique_values\": 59,\n        \"samples\": [\n          0.14285714285714285,\n          -0.35714285714285715\n        ],\n        \"semantic_type\": \"\",\n        \"description\": \"\"\n      }\n    },\n    {\n      \"column\": \"desc_len\",\n      \"properties\": {\n        \"dtype\": \"number\",\n        \"std\": 0.7609648809893752,\n        \"min\": -0.8594674556213018,\n        \"max\": 2.4718934911242605,\n        \"num_unique_values\": 1964,\n        \"samples\": [\n          -0.6449704142011834,\n          0.15532544378698224\n        ],\n        \"semantic_type\": \"\",\n        \"description\": \"\"\n      }\n    },\n    {\n      \"column\": \"len_title\",\n      \"properties\": {\n        \"dtype\": \"number\",\n        \"std\": 0.618811045034733,\n        \"min\": -2.0,\n        \"max\": 0.696969696969697,\n        \"num_unique_values\": 89,\n        \"samples\": [\n          -1.2121212121212122,\n          -1.0909090909090908\n        ],\n        \"semantic_type\": \"\",\n        \"description\": \"\"\n      }\n    },\n    {\n      \"column\": \"publish_hour\",\n      \"properties\": {\n        \"dtype\": \"number\",\n        \"std\": 0.675555171888014,\n        \"min\": -1.375,\n        \"max\": 1.5,\n        \"num_unique_values\": 24,\n        \"samples\": [\n          -0.5,\n          0.875\n        ],\n        \"semantic_type\": \"\",\n        \"description\": \"\"\n      }\n    },\n    {\n      \"column\": \"is_weekend\",\n      \"properties\": {\n        \"dtype\": \"number\",\n        \"std\": 0.44734459609973803,\n        \"min\": 0.0,\n        \"max\": 1.0,\n        \"num_unique_values\": 2,\n        \"samples\": [\n          1.0,\n          0.0\n        ],\n        \"semantic_type\": \"\",\n        \"description\": \"\"\n      }\n    }\n  ]\n}"
            }
          },
          "metadata": {},
          "execution_count": 25
        }
      ]
    },
    {
      "cell_type": "markdown",
      "source": [
        "#Data Splitting"
      ],
      "metadata": {
        "id": "rhxBf-HC3oRL"
      }
    },
    {
      "cell_type": "code",
      "source": [
        "# Import library untuk splitting data\n",
        "from sklearn.model_selection import train_test_split\n",
        "\n",
        "# Definisikan fitur dan target\n",
        "X = data_olah.drop(columns = 'views')\n",
        "y = data_olah['views']\n",
        "\n",
        "# Proses splitting data\n",
        "X_train, X_test, y_train, y_test = train_test_split(\n",
        "    X, y,\n",
        "    test_size = 0.20,\n",
        "    random_state = 42\n",
        ")\n",
        "\n",
        "# Periksa banyak data masing-masing\n",
        "print(f'Banyak data latih = {X_train.shape[0]}')\n",
        "print(f'Banyak data test  = {X_test.shape[0]}')"
      ],
      "metadata": {
        "colab": {
          "base_uri": "https://localhost:8080/"
        },
        "id": "whsiLfhI7ves",
        "outputId": "ff79228f-2437-4c82-cb9c-af8bbde53287"
      },
      "execution_count": null,
      "outputs": [
        {
          "output_type": "stream",
          "name": "stdout",
          "text": [
            "Banyak data latih = 15995\n",
            "Banyak data test  = 3999\n"
          ]
        }
      ]
    },
    {
      "cell_type": "markdown",
      "source": [
        "#Simpan CSV"
      ],
      "metadata": {
        "id": "b2_5rOG83Jvy"
      }
    },
    {
      "cell_type": "code",
      "source": [
        "#Gabungkan kembali X dan y agar bisa disimpan dalam satu CSV\n",
        "train_data = pd.concat([X_train, y_train], axis=1)\n",
        "test_data = pd.concat([X_test, y_test], axis=1)\n",
        "\n",
        "# Simpan ke file CSV\n",
        "train_data.to_csv('data_train.csv', index=False)\n",
        "test_data.to_csv('data_test.csv', index=False)\n",
        "\n",
        "print(\"Data training dan testing telah disimpan sebagai 'data_train.csv' dan 'data_test.csv'\")"
      ],
      "metadata": {
        "colab": {
          "base_uri": "https://localhost:8080/"
        },
        "id": "xzw4t4Ah8qF5",
        "outputId": "31485095-e3e5-4980-9476-45d2c756b416"
      },
      "execution_count": null,
      "outputs": [
        {
          "output_type": "stream",
          "name": "stdout",
          "text": [
            "Data training dan testing telah disimpan sebagai 'data_train.csv' dan 'data_test.csv'\n"
          ]
        }
      ]
    },
    {
      "cell_type": "markdown",
      "source": [
        "#Training & Evaluasi Model"
      ],
      "metadata": {
        "id": "Yf0pvV8KE4Kt"
      }
    },
    {
      "cell_type": "code",
      "source": [
        "# Import library untuk regresi linear dan evaluasi\n",
        "from sklearn.linear_model import LinearRegression\n",
        "from sklearn.metrics import mean_squared_error, r2_score\n",
        "import numpy as np  # Tambahkan numpy untuk sqrt\n",
        "\n",
        "# Inisialisasi dan latih model regresi linear\n",
        "model = LinearRegression()\n",
        "model.fit(X_train, y_train)\n",
        "\n",
        "# Prediksi pada data test\n",
        "y_pred = model.predict(X_test)\n",
        "\n",
        "# Evaluasi model\n",
        "mse = mean_squared_error(y_test, y_pred)\n",
        "rmse = np.sqrt(mse)  # Hitung RMSE dari MSE\n",
        "r2 = r2_score(y_test, y_pred)\n",
        "\n",
        "print(\"Linier Regression Results:\")\n",
        "print(f\"Root Mean Squared Error (RMSE): {rmse:.2f}\")\n",
        "print(f\"R-squared (R²): {r2:.2f}\")\n"
      ],
      "metadata": {
        "id": "AVGLSD5jFMgF",
        "colab": {
          "base_uri": "https://localhost:8080/"
        },
        "outputId": "1c5b7506-f4d5-472d-e192-8de968a647a3"
      },
      "execution_count": null,
      "outputs": [
        {
          "output_type": "stream",
          "name": "stdout",
          "text": [
            "Linier Regression Results:\n",
            "Root Mean Squared Error (RMSE): 0.68\n",
            "R-squared (R²): 0.54\n"
          ]
        }
      ]
    },
    {
      "cell_type": "markdown",
      "source": [
        "### Dengan nilai tersebut, kemungkinan model underfitting dan variansi rendah. maka akan dicoba menggunakanmodel lain."
      ],
      "metadata": {
        "id": "Mrxs3chCuZOO"
      }
    },
    {
      "cell_type": "code",
      "source": [
        "from sklearn.ensemble import RandomForestRegressor\n",
        "from sklearn.metrics import mean_squared_error, r2_score\n",
        "import numpy as np\n",
        "\n",
        "# Inisialisasi dan latih model Random Forest\n",
        "rf_model = RandomForestRegressor(random_state=42)\n",
        "rf_model.fit(X_train, y_train)\n",
        "\n",
        "# Prediksi pada data test\n",
        "y_pred_rf = rf_model.predict(X_test)\n",
        "\n",
        "# Evaluasi model\n",
        "rmse_rf = np.sqrt(mean_squared_error(y_test, y_pred_rf))\n",
        "r2_rf = r2_score(y_test, y_pred_rf)\n",
        "\n",
        "print(\"Random Forest Regressor Results:\")\n",
        "print(f\"Root Mean Squared Error (RMSE): {rmse_rf:.2f}\")\n",
        "print(f\"R-squared (R²): {r2_rf:.2f}\")\n"
      ],
      "metadata": {
        "colab": {
          "base_uri": "https://localhost:8080/"
        },
        "id": "pSEljpGcvXtu",
        "outputId": "8e20a074-5db7-4d15-b286-1c8c3ddf544f"
      },
      "execution_count": null,
      "outputs": [
        {
          "output_type": "stream",
          "name": "stdout",
          "text": [
            "Random Forest Regressor Results:\n",
            "Root Mean Squared Error (RMSE): 0.55\n",
            "R-squared (R²): 0.70\n"
          ]
        }
      ]
    },
    {
      "cell_type": "markdown",
      "source": [
        "### Dari model Random Forest Regressor tersebut, hasil tersebut lebih baik dari hasil sebelumnya (model Linier Regression) :\n",
        "RMSE turun dari 0.68 → 0.55 → prediksi lebih akurat.\n",
        "\n",
        "R² naik dari 0.54 → 0.70 → model sekarang bisa menjelaskan 70% variasi data\n",
        "\n",
        "Nilai akurasi model ini cukup mewakili. Untuk itu perlu dilakukan hyperparameter tuning untuk melihat apakah akurasi dari model masih dapat ditingkatkan."
      ],
      "metadata": {
        "id": "L6OKuCn-xUzh"
      }
    },
    {
      "cell_type": "code",
      "source": [
        "from sklearn.model_selection import GridSearchCV\n",
        "\n",
        "param_grid = {\n",
        "    'n_estimators': [100, 200],\n",
        "    'max_depth': [None, 10, 20],\n",
        "    'min_samples_split': [2, 5],\n",
        "}\n",
        "\n",
        "grid_search = GridSearchCV(\n",
        "    estimator=RandomForestRegressor(random_state=42),\n",
        "    param_grid=param_grid,\n",
        "    cv=5,\n",
        "    scoring='neg_root_mean_squared_error',  # pakai RMSE\n",
        "    n_jobs=-1\n",
        ")\n",
        "\n",
        "grid_search.fit(X_train, y_train)\n",
        "best_rf = grid_search.best_estimator_\n",
        "\n",
        "# Evaluasi model terbaik\n",
        "y_pred_best = best_rf.predict(X_test)\n",
        "rmse_best = np.sqrt(mean_squared_error(y_test, y_pred_best))\n",
        "r2_best = r2_score(y_test, y_pred_best)\n",
        "\n",
        "print(\"Best Tuned Random Forest:\")\n",
        "print(\"Best Params:\", grid_search.best_params_)\n",
        "print(f\"RMSE: {rmse_best:.2f}\")\n",
        "print(f\"R²: {r2_best:.2f}\")\n"
      ],
      "metadata": {
        "colab": {
          "base_uri": "https://localhost:8080/"
        },
        "id": "q49LeMtwxsFw",
        "outputId": "8a18b551-cf73-4438-9365-fc99011989f6"
      },
      "execution_count": null,
      "outputs": [
        {
          "output_type": "stream",
          "name": "stdout",
          "text": [
            "Best Tuned Random Forest:\n",
            "Best Params: {'max_depth': None, 'min_samples_split': 2, 'n_estimators': 200}\n",
            "RMSE: 0.55\n",
            "R²: 0.70\n"
          ]
        }
      ]
    },
    {
      "cell_type": "markdown",
      "source": [
        "###Untuk pembanding terhadap model Random Forest Regressor, dilakukan prediksi menggunakan model lain yaitu Gradient Boosting Regressor (XGBoost)"
      ],
      "metadata": {
        "id": "vYe30G5pNHVJ"
      }
    },
    {
      "cell_type": "code",
      "source": [
        "from scipy.stats import randint, uniform\n",
        "from xgboost import XGBRegressor\n",
        "from sklearn.metrics import mean_squared_error, r2_score, mean_absolute_error\n",
        "import numpy as np\n",
        "\n",
        "# Inisialisasi dan latih model XGBoost Regressor\n",
        "xgb_model = XGBRegressor(n_estimators=100, learning_rate=0.1, random_state=42)\n",
        "xgb_model.fit(X_train, y_train)\n",
        "\n",
        "# Prediksi pada data test\n",
        "y_pred_xgb = xgb_model.predict(X_test)\n",
        "\n",
        "# Evaluasi model\n",
        "rmse_xgb = np.sqrt(mean_squared_error(y_test, y_pred_xgb))\n",
        "r2_xgb = r2_score(y_test, y_pred_xgb)\n",
        "\n",
        "print(\"Gradient Boosting Regressor (XGBoost) Results:\")\n",
        "print(f\"Root Mean Squared Error (RMSE): {rmse_xgb:.2f}\")\n",
        "print(f\"R-squared (R²): {r2_xgb:.2f}\")"
      ],
      "metadata": {
        "colab": {
          "base_uri": "https://localhost:8080/"
        },
        "id": "wnh6RTfUDdKH",
        "outputId": "25fcd281-e7d5-4c05-d6f0-75e2ae9691a0"
      },
      "execution_count": null,
      "outputs": [
        {
          "output_type": "stream",
          "name": "stdout",
          "text": [
            "Gradient Boosting Regressor (XGBoost) Results:\n",
            "Root Mean Squared Error (RMSE): 0.56\n",
            "R-squared (R²): 0.69\n"
          ]
        }
      ]
    },
    {
      "cell_type": "markdown",
      "source": [
        "### Melihat hasil RMSE dan R² Gradient Boosting Regressor (XGBoost) yang hampir mirip dengan Random Forest Regressor, maka perlu dipertimbangkan untuk melakukan hyperparameter tuning dari Gradient Boosting Regressor (XGBoost) untuk melihat perbaikan akurasi modelnya"
      ],
      "metadata": {
        "id": "vwe0Me5uOD9R"
      }
    },
    {
      "cell_type": "code",
      "source": [
        "from sklearn.model_selection import RandomizedSearchCV\n",
        "from scipy.stats import randint, uniform\n",
        "from xgboost import XGBRegressor\n",
        "import xgboost as xgb\n",
        "from sklearn.metrics import mean_squared_error, r2_score, mean_absolute_error\n",
        "import numpy as np\n",
        "\n",
        "# Hyperparameter Tuning untuk XGBoost\n",
        "param_dist_xgb = {\n",
        "    'n_estimators': randint(50, 300),\n",
        "    'learning_rate': uniform(0.01, 0.3),\n",
        "    'max_depth': randint(3, 15),\n",
        "    'min_child_weight': randint(1, 10),\n",
        "    'subsample': uniform(0.6, 0.4),\n",
        "    'colsample_bytree': uniform(0.5, 0.5),\n",
        "    'gamma': uniform(0, 0.5)\n",
        "}\n",
        "\n",
        "# Inisialisasi dan latih model XGBoost Regressor\n",
        "xgb_model = XGBRegressor(random_state=42)\n",
        "\n",
        "# 🔍 Randomized Search untuk XGBoost\n",
        "rs_xgb = RandomizedSearchCV(xgb_model, param_dist_xgb, n_iter=50, scoring='neg_mean_absolute_error',\n",
        "                            cv=5, n_jobs=-1, random_state=42)\n",
        "rs_xgb.fit(X_train, y_train)\n",
        "\n",
        "# Prediksi pada data test\n",
        "best_xgb = rs_xgb.best_estimator_\n",
        "\n",
        "# Evaluasi model terbaik\n",
        "y_pred_best = best_xgb.predict(X_test)\n",
        "\n",
        "# Evaluasi model\n",
        "rmse_xgb_best = np.sqrt(mean_squared_error(y_test, y_pred_best))\n",
        "r2_xgb_best = r2_score(y_test, y_pred_best)\n",
        "\n",
        "print(\"Best Tune Gradient Boosting Regressor Results:\")\n",
        "print(\"\\nBest params for XGBoost:\", rs_xgb.best_params_)\n",
        "print(f\"Root Mean Squared Error (RMSE): {rmse_xgb_best:.2f}\")\n",
        "print(f\"R-squared (R²): {r2_xgb_best:.2f}\")"
      ],
      "metadata": {
        "colab": {
          "base_uri": "https://localhost:8080/"
        },
        "id": "n9V16fIDGSAG",
        "outputId": "3c248139-5abc-45d7-da35-8997cd94d3fa"
      },
      "execution_count": null,
      "outputs": [
        {
          "output_type": "stream",
          "name": "stdout",
          "text": [
            "Best Tune Gradient Boosting Regressor Results:\n",
            "\n",
            "Best params for XGBoost: {'colsample_bytree': np.float64(0.6467440873590191), 'gamma': np.float64(0.007039911357542228), 'learning_rate': np.float64(0.06965272122664154), 'max_depth': 10, 'min_child_weight': 3, 'n_estimators': 212, 'subsample': np.float64(0.9085081386743783)}\n",
            "Root Mean Squared Error (RMSE): 0.50\n",
            "R-squared (R²): 0.75\n"
          ]
        }
      ]
    },
    {
      "cell_type": "markdown",
      "source": [
        "#Kesimpulan\n",
        "1.   Dalam kondisi model tanpa hyperparameter tuning, akurasi model Random Forest Regressor mengalahkan model Linier Regression dan Gradient Boosting Regressor.<br>\n",
        "Dimana nilai RMSE dan R² untuk  Random Forest Regressor, Linier Regression dan Gradient Boosting Regressor masing-masing sebesar:<br>\n",
        "[0.55, 0.70], [0.68, 0.54], [0.56, 0.69]\n",
        "2.   Dari model-model tersebut di pilih 2 model untuk dilakukan hyperparameter tuning untuk meningkatkan akurasi dari model, yaitu Random Forest Regressor, dan Gradient Boosting Regressor dengan pertimbangan utama nilai RMSE yang kecil dan R² yang diatas 0.65. <br>\n",
        "Dengan hasil akurasi RMSE dan R² setelah hyperparameter tuning berturut-turut untuk Random Forest Regressor, dan Gradient Boosting Regressor sebesar:<br>\n",
        "[0.55, 0.70], [0.50, 0.75]\n",
        "3.   Hasil hyperparameter tuning dari Random Forest Regressor tidak menunjukkan perubahan akurasi, sedangkan hasil hyperparameter tuning dari Gradient Boosting Regressor menunjukkan peningkatan akurasi yang lumayan dimana RMSE dari 0.56 menjadi 0.50 dan R² dari 0.69 menjadi 0.75\n",
        "4.   Berdasarkan ini, untuk pemodelan prediksi jumlah viewer Youtube lebih bisa diwakili oleh model Gradient Boosting Regressor yang sudah dilakukan hyperparameter tuning\n",
        "\n"
      ],
      "metadata": {
        "id": "pKYaECi2JpqL"
      }
    },
    {
      "cell_type": "code",
      "source": [],
      "metadata": {
        "id": "0SRU26Z8KRt_"
      },
      "execution_count": null,
      "outputs": []
    }
  ]
}